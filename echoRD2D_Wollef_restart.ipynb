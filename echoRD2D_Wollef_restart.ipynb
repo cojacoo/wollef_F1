{
 "metadata": {
  "name": ""
 },
 "nbformat": 3,
 "nbformat_minor": 0,
 "worksheets": [
  {
   "cells": [
    {
     "cell_type": "markdown",
     "metadata": {},
     "source": [
      "##This is the 2D testcase of the echoRD model\n",
      "##New version for Wollefsbach based on defined Macropore definitions\n",
      "\n",
      "Make sure to have numpy, pandas, scipy and echoRD installed."
     ]
    },
    {
     "cell_type": "heading",
     "level": 3,
     "metadata": {},
     "source": [
      "Preamble"
     ]
    },
    {
     "cell_type": "code",
     "collapsed": false,
     "input": [
      "import numpy as np\n",
      "import pandas as pd"
     ],
     "language": "python",
     "metadata": {},
     "outputs": [],
     "prompt_number": 1
    },
    {
     "cell_type": "code",
     "collapsed": false,
     "input": [
      "import scipy as sp\n",
      "import matplotlib.pyplot as plt\n",
      "import os, sys"
     ],
     "language": "python",
     "metadata": {},
     "outputs": [],
     "prompt_number": 2
    },
    {
     "cell_type": "code",
     "collapsed": false,
     "input": [
      "#connect echoRD Tools\n",
      "pathdir='../' #path to echoRD\n",
      "lib_path = os.path.abspath(pathdir)\n",
      "sys.path.append(lib_path)\n",
      "import vG_conv as vG\n",
      "from hydro_tools import plotparticles_t,hydroprofile,plotparticles_specht,plotparticles_weier"
     ],
     "language": "python",
     "metadata": {},
     "outputs": [],
     "prompt_number": 3
    },
    {
     "cell_type": "code",
     "collapsed": false,
     "input": [
      "try:\n",
      "   import cPickle as pickle\n",
      "except:\n",
      "   import pickle\n"
     ],
     "language": "python",
     "metadata": {},
     "outputs": [],
     "prompt_number": 4
    },
    {
     "cell_type": "heading",
     "level": 3,
     "metadata": {},
     "source": [
      "Prepare echoRD"
     ]
    },
    {
     "cell_type": "code",
     "collapsed": false,
     "input": [
      "#connect to echoRD\n",
      "import run_echoRD as rE\n",
      "#connect and load project\n",
      "[dr,mc,mcp,pdyn,cinf,vG]=rE.loadconnect(pathdir='../',mcinif='mcini_wollef_Dj1',experimental=True)\n",
      "mc = mcp.mcpick_out(mc,'wollef_Dj1.pickle')\n",
      "runname='dummy_restart'\n",
      "mc.advectref='Shipitalo'"
     ],
     "language": "python",
     "metadata": {},
     "outputs": [
      {
       "output_type": "stream",
       "stream": "stdout",
       "text": [
        "updated mc fromwollef_Dj1.pickle\n"
       ]
      }
     ],
     "prompt_number": 5
    },
    {
     "cell_type": "code",
     "collapsed": false,
     "input": [
      "import macropore_ini as mpo\n",
      "mpo.mac_plot(mc.macP,mc)"
     ],
     "language": "python",
     "metadata": {},
     "outputs": [
      {
       "output_type": "stream",
       "stream": "stderr",
       "text": [
        "/usr/local/lib/python2.7/site-packages/matplotlib/__init__.py:872: UserWarning: axes.color_cycle is deprecated and replaced with axes.prop_cycle; please use the latter.\n",
        "  warnings.warn(self.msg_depr % (key, alt_key))\n"
       ]
      },
      {
       "metadata": {},
       "output_type": "display_data",
       "png": "[encoded data removed]",
       "text": [
        "<matplotlib.figure.Figure at 0x10618fed0>"
       ]
      }
     ],
     "prompt_number": 6
    },
    {
     "cell_type": "code",
     "collapsed": false,
     "input": [
      "mc.md_macdepth"
     ],
     "language": "python",
     "metadata": {},
     "outputs": [
      {
       "metadata": {},
       "output_type": "pyout",
       "prompt_number": 7,
       "text": [
        "array([ 0.7,  0.7,  0.7,  0.6])"
       ]
      }
     ],
     "prompt_number": 7
    },
    {
     "cell_type": "code",
     "collapsed": false,
     "input": [
      "#mc.soilgrid[:,:]=5\n",
      "#mc.soilgrid[:35,:]=9\n",
      "imshow(mc.soilgrid,interpolation=None,cmap='jet') \n",
      "print(np.unique(mc.soilgrid))"
     ],
     "language": "python",
     "metadata": {},
     "outputs": [
      {
       "output_type": "stream",
       "stream": "stdout",
       "text": [
        "[1 4]\n"
       ]
      },
      {
       "metadata": {},
       "output_type": "display_data",
       "png": "[encoded data removed]",
       "text": [
        "<matplotlib.figure.Figure at 0x10882f8d0>"
       ]
      }
     ],
     "prompt_number": 8
    },
    {
     "cell_type": "code",
     "collapsed": false,
     "input": [
      "precTS=pd.read_csv(mc.precf, sep=',',skiprows=3)"
     ],
     "language": "python",
     "metadata": {},
     "outputs": [],
     "prompt_number": 9
    },
    {
     "cell_type": "code",
     "collapsed": false,
     "input": [
      "precTS.tstart=60\n",
      "precTS.tend=60+1800\n",
      "precTS.total=0.04\n",
      "precTS.intense=precTS.total/(precTS.tend-precTS.tstart)\n",
      "precTS"
     ],
     "language": "python",
     "metadata": {},
     "outputs": [
      {
       "html": [
        "<div style=\"max-width:1500px;overflow:auto;\">\n",
        "<table border=\"1\" class=\"dataframe\">\n",
        "  <thead>\n",
        "    <tr style=\"text-align: right;\">\n",
        "      <th></th>\n",
        "      <th>tstart</th>\n",
        "      <th>tend</th>\n",
        "      <th>total</th>\n",
        "      <th>intense</th>\n",
        "      <th>conc</th>\n",
        "    </tr>\n",
        "  </thead>\n",
        "  <tbody>\n",
        "    <tr>\n",
        "      <th>0</th>\n",
        "      <td>60</td>\n",
        "      <td>1860</td>\n",
        "      <td>0.04</td>\n",
        "      <td>0.000022</td>\n",
        "      <td>0.000165</td>\n",
        "    </tr>\n",
        "  </tbody>\n",
        "</table>\n",
        "</div>"
       ],
       "metadata": {},
       "output_type": "pyout",
       "prompt_number": 10,
       "text": [
        "   tstart  tend  total   intense      conc\n",
        "0      60  1860   0.04  0.000022  0.000165"
       ]
      }
     ],
     "prompt_number": 10
    },
    {
     "cell_type": "code",
     "collapsed": false,
     "input": [
      "#use modified routines for binned retention definitions\n",
      "mc.part_sizefac=500\n",
      "mc.gridcellA=mc.mgrid.vertfac*mc.mgrid.latfac\n",
      "mc.particleA=abs(mc.gridcellA.values)/(2*mc.part_sizefac) #assume average ks at about 0.5 as reference of particle size\n",
      "mc.particleD=2.*np.sqrt(mc.particleA/np.pi)\n",
      "mc.particleV=3./4.*np.pi*(mc.particleD/2.)**3.\n",
      "mc.particleV/=np.sqrt(abs(mc.gridcellA.values)) #assume grid size as 3rd dimension\n",
      "mc.particleD/=np.sqrt(abs(mc.gridcellA.values))\n",
      "mc.particlemass=dr.waterdensity(np.array(20),np.array(-9999))*mc.particleV #assume 20\u00b0C as reference for particle mass\n",
      "                                                                        #DEBUG: a) we assume 2D=3D; b) change 20\u00b0C to annual mean T?\n",
      "mc=dr.ini_bins(mc)\n",
      "mc=dr.mc_diffs(mc,np.max(np.max(mc.mxbin)))"
     ],
     "language": "python",
     "metadata": {},
     "outputs": [],
     "prompt_number": 11
    },
    {
     "cell_type": "code",
     "collapsed": false,
     "input": [
      "#mc.inimf='./moisture/07_4_1_moist.dat'\n",
      "[mc,particles,npart]=dr.particle_setup(mc)"
     ],
     "language": "python",
     "metadata": {},
     "outputs": [],
     "prompt_number": 12
    },
    {
     "cell_type": "code",
     "collapsed": false,
     "input": [
      "#non-particle setting dependent infiltration breakpoint\n",
      "dummy=np.zeros((100,len(mc.soilmatrix)))\n",
      "for soil in mc.soilmatrix.index:\n",
      "    #plot(i,(mc.theta100[100-i,4]/(mc.particleD*0.5))*mc.D100[i,4]+mc.ku100[i,4],'.') #q\n",
      "    for i in np.arange(100):\n",
      "        dummy[i,soil]=pdyn.filmthick(mc.psi100[i,soil])/((mc.theta100[100-i,soil]/(mc.particleD*0.5))*mc.D100[i,soil]+mc.ku100[i,soil])\n",
      "        #plot(i,((0.001*mc.particleD[0])/((mc.theta100[100-i,soil]/(mc.particleD*0.5))*mc.D100[i,soil]+mc.ku100[i,soil]))/60,'.') #time to infilt\n",
      "        #plot(i,(0.5*mc.particleD[0])/mc.ku100[i,soil]/60,'.') #time to infilt\n",
      "\n",
      "dummyD=pd.DataFrame(dummy.T)\n",
      "#dummyD.index=mc.soilmatrix.type\n",
      "#dummyD.T.iloc[:,8].plot()\n",
      "dummyD.T.plot()\n",
      "plot([0,100],[60,60],'-',label='1min')\n",
      "plot([0,100],[300,300],'-',label='5min')\n",
      "plot([0,100],[1800,1800],'-',label='30min')\n",
      "yscale('log')\n",
      "#legend(ncol=3)\n",
      "title('exfiltration time [s] at pore wall at different theta*')"
     ],
     "language": "python",
     "metadata": {},
     "outputs": [
      {
       "metadata": {},
       "output_type": "pyout",
       "prompt_number": 13,
       "text": [
        "<matplotlib.text.Text at 0x1087a11d0>"
       ]
      },
      {
       "metadata": {},
       "output_type": "display_data",
       "png": "[encoded data removed]",
       "text": [
        "<matplotlib.figure.Figure at 0x1088f8410>"
       ]
      }
     ],
     "prompt_number": 13
    },
    {
     "cell_type": "code",
     "collapsed": false,
     "input": [
      "mc.soilmatrix"
     ],
     "language": "python",
     "metadata": {},
     "outputs": [
      {
       "html": [
        "<div style=\"max-width:1500px;overflow:auto;\">\n",
        "<table border=\"1\" class=\"dataframe\">\n",
        "  <thead>\n",
        "    <tr style=\"text-align: right;\">\n",
        "      <th></th>\n",
        "      <th>no</th>\n",
        "      <th>ks</th>\n",
        "      <th>ts</th>\n",
        "      <th>tr</th>\n",
        "      <th>alpha</th>\n",
        "      <th>n</th>\n",
        "      <th>rho</th>\n",
        "      <th>z</th>\n",
        "      <th>name</th>\n",
        "      <th>m</th>\n",
        "    </tr>\n",
        "  </thead>\n",
        "  <tbody>\n",
        "    <tr>\n",
        "      <th>0</th>\n",
        "      <td>1</td>\n",
        "      <td>0.000002</td>\n",
        "      <td>0.496354</td>\n",
        "      <td>0.028610</td>\n",
        "      <td>2.015623</td>\n",
        "      <td>1.267703</td>\n",
        "      <td>1500</td>\n",
        "      <td>-0.2</td>\n",
        "      <td>topwollef90</td>\n",
        "      <td>0.211172</td>\n",
        "    </tr>\n",
        "    <tr>\n",
        "      <th>1</th>\n",
        "      <td>2</td>\n",
        "      <td>0.000002</td>\n",
        "      <td>0.529030</td>\n",
        "      <td>0.028610</td>\n",
        "      <td>2.015623</td>\n",
        "      <td>1.267703</td>\n",
        "      <td>1500</td>\n",
        "      <td>-0.2</td>\n",
        "      <td>topwollef85</td>\n",
        "      <td>0.211172</td>\n",
        "    </tr>\n",
        "    <tr>\n",
        "      <th>2</th>\n",
        "      <td>3</td>\n",
        "      <td>0.000002</td>\n",
        "      <td>0.475560</td>\n",
        "      <td>0.028610</td>\n",
        "      <td>2.015623</td>\n",
        "      <td>1.267703</td>\n",
        "      <td>1500</td>\n",
        "      <td>-0.2</td>\n",
        "      <td>topwollef95</td>\n",
        "      <td>0.211172</td>\n",
        "    </tr>\n",
        "    <tr>\n",
        "      <th>3</th>\n",
        "      <td>4</td>\n",
        "      <td>0.000001</td>\n",
        "      <td>0.470870</td>\n",
        "      <td>0.022254</td>\n",
        "      <td>2.227031</td>\n",
        "      <td>1.251188</td>\n",
        "      <td>1500</td>\n",
        "      <td>-0.4</td>\n",
        "      <td>midwollef</td>\n",
        "      <td>0.200760</td>\n",
        "    </tr>\n",
        "  </tbody>\n",
        "</table>\n",
        "</div>"
       ],
       "metadata": {},
       "output_type": "pyout",
       "prompt_number": 14,
       "text": [
        "   no        ks        ts        tr     alpha         n   rho    z  \\\n",
        "0   1  0.000002  0.496354  0.028610  2.015623  1.267703  1500 -0.2   \n",
        "1   2  0.000002  0.529030  0.028610  2.015623  1.267703  1500 -0.2   \n",
        "2   3  0.000002  0.475560  0.028610  2.015623  1.267703  1500 -0.2   \n",
        "3   4  0.000001  0.470870  0.022254  2.227031  1.251188  1500 -0.4   \n",
        "\n",
        "          name         m  \n",
        "0  topwollef90  0.211172  \n",
        "1  topwollef85  0.211172  \n",
        "2  topwollef95  0.211172  \n",
        "3    midwollef  0.200760  "
       ]
      }
     ],
     "prompt_number": 14
    },
    {
     "cell_type": "code",
     "collapsed": false,
     "input": [
      "#new reference\n",
      "mc.maccon=np.where(mc.macconnect.ravel()>0)[0] #index of all connected cells\n",
      "#mc.md_macdepth=np.abs(mc.md_macdepth)"
     ],
     "language": "python",
     "metadata": {},
     "outputs": [],
     "prompt_number": 15
    },
    {
     "cell_type": "code",
     "collapsed": false,
     "input": [
      "#define bin assignment mode for infiltration particles\n",
      "mc.LTEdef='instant'#'ks' #'instant' #'random'\n",
      "mc.LTEmemory=mc.soilgrid.ravel()*0."
     ],
     "language": "python",
     "metadata": {},
     "outputs": [],
     "prompt_number": 16
    },
    {
     "cell_type": "code",
     "collapsed": false,
     "input": [
      "mc.prects=False\n",
      "#theta=mc.zgrid[:,1]*0.+0.273\n",
      "#[mc,particles,npart]=rE.particle_setup_obs(theta,mc,vG,dr,pdyn)\n",
      "[thS,npart]=pdyn.gridupdate_thS(particles.lat,particles.z,mc)\n",
      "[A,B]=plotparticles_t(particles,thS/100.,mc,vG,store=True)"
     ],
     "language": "python",
     "metadata": {},
     "outputs": [
      {
       "metadata": {},
       "output_type": "display_data",
       "png": "[encoded data removed]",
       "text": [
        "<matplotlib.figure.Figure at 0x104f19d50>"
       ]
      }
     ],
     "prompt_number": 17
    },
    {
     "cell_type": "code",
     "collapsed": false,
     "input": [
      "from hydro_tools import plotparticles_gen\n",
      "plotparticles_gen(particles,mc,pdyn,vG,runname,0.,i,fsize=(3.6, 9),w_rat=[4,1.1],h_rat=[1,9],saving=False,relative=False)"
     ],
     "language": "python",
     "metadata": {},
     "outputs": [
      {
       "ename": "ImportError",
       "evalue": "cannot import name plotparticles_gen",
       "output_type": "pyerr",
       "traceback": [
        "\u001b[0;31m---------------------------------------------------------------------------\u001b[0m\n\u001b[0;31mImportError\u001b[0m                               Traceback (most recent call last)",
        "\u001b[0;32m<ipython-input-24-ff744d568015>\u001b[0m in \u001b[0;36m<module>\u001b[0;34m()\u001b[0m\n\u001b[0;32m----> 1\u001b[0;31m \u001b[0;32mfrom\u001b[0m \u001b[0mhydro_tools\u001b[0m \u001b[0;32mimport\u001b[0m \u001b[0mplotparticles_gen\u001b[0m\u001b[0;34m\u001b[0m\u001b[0m\n\u001b[0m\u001b[1;32m      2\u001b[0m \u001b[0mplotparticles_gen\u001b[0m\u001b[0;34m(\u001b[0m\u001b[0mparticles\u001b[0m\u001b[0;34m,\u001b[0m\u001b[0mmc\u001b[0m\u001b[0;34m,\u001b[0m\u001b[0mpdyn\u001b[0m\u001b[0;34m,\u001b[0m\u001b[0mvG\u001b[0m\u001b[0;34m,\u001b[0m\u001b[0mrunname\u001b[0m\u001b[0;34m,\u001b[0m\u001b[0;36m0.\u001b[0m\u001b[0;34m,\u001b[0m\u001b[0mi\u001b[0m\u001b[0;34m,\u001b[0m\u001b[0mfsize\u001b[0m\u001b[0;34m=\u001b[0m\u001b[0;34m(\u001b[0m\u001b[0;36m3.6\u001b[0m\u001b[0;34m,\u001b[0m \u001b[0;36m9\u001b[0m\u001b[0;34m)\u001b[0m\u001b[0;34m,\u001b[0m\u001b[0mw_rat\u001b[0m\u001b[0;34m=\u001b[0m\u001b[0;34m[\u001b[0m\u001b[0;36m4\u001b[0m\u001b[0;34m,\u001b[0m\u001b[0;36m1.1\u001b[0m\u001b[0;34m]\u001b[0m\u001b[0;34m,\u001b[0m\u001b[0mh_rat\u001b[0m\u001b[0;34m=\u001b[0m\u001b[0;34m[\u001b[0m\u001b[0;36m1\u001b[0m\u001b[0;34m,\u001b[0m\u001b[0;36m9\u001b[0m\u001b[0;34m]\u001b[0m\u001b[0;34m,\u001b[0m\u001b[0msaving\u001b[0m\u001b[0;34m=\u001b[0m\u001b[0mFalse\u001b[0m\u001b[0;34m,\u001b[0m\u001b[0mrelative\u001b[0m\u001b[0;34m=\u001b[0m\u001b[0mFalse\u001b[0m\u001b[0;34m)\u001b[0m\u001b[0;34m\u001b[0m\u001b[0m\n",
        "\u001b[0;31mImportError\u001b[0m: cannot import name plotparticles_gen"
       ]
      }
     ],
     "prompt_number": 24
    },
    {
     "cell_type": "code",
     "collapsed": false,
     "input": [
      "imshow(np.reshape(particles.cell.value_counts().sort_index().values,np.shape(thS)))"
     ],
     "language": "python",
     "metadata": {},
     "outputs": [
      {
       "metadata": {},
       "output_type": "pyout",
       "prompt_number": 32,
       "text": [
        "<matplotlib.image.AxesImage at 0x10d1f1550>"
       ]
      },
      {
       "metadata": {},
       "output_type": "display_data",
       "png": "[encoded data removed]",
       "text": [
        "<matplotlib.figure.Figure at 0x10d254450>"
       ]
      }
     ],
     "prompt_number": 32
    },
    {
     "cell_type": "code",
     "collapsed": false,
     "input": [],
     "language": "python",
     "metadata": {},
     "outputs": [
      {
       "metadata": {},
       "output_type": "pyout",
       "prompt_number": 34,
       "text": [
        "Series([], Name: cell, dtype: int64)"
       ]
      }
     ],
     "prompt_number": 34
    },
    {
     "cell_type": "code",
     "collapsed": false,
     "input": [],
     "language": "python",
     "metadata": {},
     "outputs": [],
     "prompt_number": 50
    },
    {
     "cell_type": "heading",
     "level": 3,
     "metadata": {},
     "source": [
      "Run Model"
     ]
    },
    {
     "cell_type": "code",
     "collapsed": false,
     "input": [
      "mc.LTEpercentile=70 #new parameter\n",
      "particles.LTEbin=np.fmin(particles.LTEbin.values,len(mc.D)-1)"
     ],
     "language": "python",
     "metadata": {},
     "outputs": [],
     "prompt_number": 18
    },
    {
     "cell_type": "code",
     "collapsed": false,
     "input": [
      "t_end=6.*3600.\n",
      "saveDT=True\n",
      "\n",
      "output=10. #mind to set also in TXstore.index definition\n",
      "dummy=np.floor(t_end/output)\n"
     ],
     "language": "python",
     "metadata": {},
     "outputs": [],
     "prompt_number": 19
    },
    {
     "cell_type": "code",
     "collapsed": false,
     "input": [
      "#1: MDA\n",
      "#2: MED\n",
      "#3: rand\n",
      "infiltmeth='MDA'\n",
      "#3: RWdiff\n",
      "#4: Ediss\n",
      "#exfiltmeth='RWdiff'\n",
      "exfiltmeth='Ediss'\n",
      "#5: film_uconst\n",
      "#6: dynamic u\n",
      "film=True\n",
      "#7: maccoat1\n",
      "#8: maccoat10\n",
      "#9: maccoat100\n",
      "macscale=1. #scale the macropore coating \n",
      "clogswitch=False\n",
      "infiltscale=False#0.8\n"
     ],
     "language": "python",
     "metadata": {},
     "outputs": [],
     "prompt_number": 20
    },
    {
     "cell_type": "code",
     "collapsed": false,
     "input": [],
     "language": "python",
     "metadata": {},
     "outputs": [],
     "prompt_number": 20
    },
    {
     "cell_type": "code",
     "collapsed": false,
     "input": [
      "TSstore=np.zeros((int(dummy),mc.mgrid.cells,2))\n"
     ],
     "language": "python",
     "metadata": {},
     "outputs": [],
     "prompt_number": 21
    },
    {
     "cell_type": "code",
     "collapsed": false,
     "input": [
      "#unpickle:\n",
      "with open(''.join(['./results/Z',runname,'_Mstat.pick']),'rb') as handle:\n",
      "    pickle_l = pickle.load(handle)\n",
      "    dummyx = pickle.loads(pickle_l)\n",
      "    particles = pickle.loads(dummyx[0])\n",
      "    [leftover,drained,t] = pickle.loads(dummyx[1])\n",
      "\n",
      "ix=int(np.floor(t/output))"
     ],
     "language": "python",
     "metadata": {},
     "outputs": [],
     "prompt_number": 29
    },
    {
     "cell_type": "code",
     "collapsed": false,
     "input": [
      "ix=0"
     ],
     "language": "python",
     "metadata": {},
     "outputs": [],
     "prompt_number": 22
    },
    {
     "cell_type": "code",
     "collapsed": false,
     "input": [
      "drained=pd.DataFrame(np.array([]))\n",
      "leftover=0\n",
      "t=0.\n",
      "\n",
      "#loop through plot cycles\n",
      "for i in np.arange(dummy.astype(int))[ix:]:\n",
      "    #plot and store states\n",
      "    plotparticles_specht(particles,mc,pdyn,vG,runname,t,i,saving=True,relative=False)\n",
      "    [particles,npart,thS,leftover,drained,t]=rE.CAOSpy_rundx1(i*output,(i+1)*output,mc,pdyn,cinf,precTS,particles,leftover,drained,6.,splitfac=1,prec_2D=False,maccoat=macscale,saveDT=saveDT,clogswitch=clogswitch,infilt_method=infiltmeth,exfilt_method=exfiltmeth,film=film,infiltscale=infiltscale)\n",
      "    TSstore[i,:,:]=rE.part_store(particles,mc)\n",
      "    if i/5.==np.round(i/5.):\n",
      "        with open(''.join(['./results/Z',runname,'_Mstat.pick']),'wb') as handle:\n",
      "            pickle.dump(pickle.dumps([pickle.dumps(particles),pickle.dumps([leftover,drained,t])]), handle, protocol=2)\n",
      "\n",
      "    "
     ],
     "language": "python",
     "metadata": {},
     "outputs": [
      {
       "metadata": {},
       "output_type": "display_data",
       "text": [
        "'time: 40.0s  |  n_particles: 362588  |  precip: 0  |  advect: 0  |  exfilt: 0  |  mean v(adv): nannan m/s'"
       ]
      },
      {
       "metadata": {},
       "output_type": "display_data",
       "text": [
        "'time: 40.0s  |  n_particles now: 362587  |  leftover: 0'"
       ]
      },
      {
       "ename": "KeyboardInterrupt",
       "evalue": "",
       "output_type": "pyerr",
       "traceback": [
        "\u001b[0;31m---------------------------------------------------------------------------\u001b[0m\n\u001b[0;31mKeyboardInterrupt\u001b[0m                         Traceback (most recent call last)",
        "\u001b[0;32m<ipython-input-24-a889ad475da4>\u001b[0m in \u001b[0;36m<module>\u001b[0;34m()\u001b[0m\n\u001b[1;32m      7\u001b[0m     \u001b[0;31m#plot and store states\u001b[0m\u001b[0;34m\u001b[0m\u001b[0;34m\u001b[0m\u001b[0m\n\u001b[1;32m      8\u001b[0m     \u001b[0mplotparticles_specht\u001b[0m\u001b[0;34m(\u001b[0m\u001b[0mparticles\u001b[0m\u001b[0;34m,\u001b[0m\u001b[0mmc\u001b[0m\u001b[0;34m,\u001b[0m\u001b[0mpdyn\u001b[0m\u001b[0;34m,\u001b[0m\u001b[0mvG\u001b[0m\u001b[0;34m,\u001b[0m\u001b[0mrunname\u001b[0m\u001b[0;34m,\u001b[0m\u001b[0mt\u001b[0m\u001b[0;34m,\u001b[0m\u001b[0mi\u001b[0m\u001b[0;34m,\u001b[0m\u001b[0msaving\u001b[0m\u001b[0;34m=\u001b[0m\u001b[0mTrue\u001b[0m\u001b[0;34m,\u001b[0m\u001b[0mrelative\u001b[0m\u001b[0;34m=\u001b[0m\u001b[0mFalse\u001b[0m\u001b[0;34m)\u001b[0m\u001b[0;34m\u001b[0m\u001b[0m\n\u001b[0;32m----> 9\u001b[0;31m     \u001b[0;34m[\u001b[0m\u001b[0mparticles\u001b[0m\u001b[0;34m,\u001b[0m\u001b[0mnpart\u001b[0m\u001b[0;34m,\u001b[0m\u001b[0mthS\u001b[0m\u001b[0;34m,\u001b[0m\u001b[0mleftover\u001b[0m\u001b[0;34m,\u001b[0m\u001b[0mdrained\u001b[0m\u001b[0;34m,\u001b[0m\u001b[0mt\u001b[0m\u001b[0;34m]\u001b[0m\u001b[0;34m=\u001b[0m\u001b[0mrE\u001b[0m\u001b[0;34m.\u001b[0m\u001b[0mCAOSpy_rundx1\u001b[0m\u001b[0;34m(\u001b[0m\u001b[0mi\u001b[0m\u001b[0;34m*\u001b[0m\u001b[0moutput\u001b[0m\u001b[0;34m,\u001b[0m\u001b[0;34m(\u001b[0m\u001b[0mi\u001b[0m\u001b[0;34m+\u001b[0m\u001b[0;36m1\u001b[0m\u001b[0;34m)\u001b[0m\u001b[0;34m*\u001b[0m\u001b[0moutput\u001b[0m\u001b[0;34m,\u001b[0m\u001b[0mmc\u001b[0m\u001b[0;34m,\u001b[0m\u001b[0mpdyn\u001b[0m\u001b[0;34m,\u001b[0m\u001b[0mcinf\u001b[0m\u001b[0;34m,\u001b[0m\u001b[0mprecTS\u001b[0m\u001b[0;34m,\u001b[0m\u001b[0mparticles\u001b[0m\u001b[0;34m,\u001b[0m\u001b[0mleftover\u001b[0m\u001b[0;34m,\u001b[0m\u001b[0mdrained\u001b[0m\u001b[0;34m,\u001b[0m\u001b[0;36m6.\u001b[0m\u001b[0;34m,\u001b[0m\u001b[0msplitfac\u001b[0m\u001b[0;34m=\u001b[0m\u001b[0;36m1\u001b[0m\u001b[0;34m,\u001b[0m\u001b[0mprec_2D\u001b[0m\u001b[0;34m=\u001b[0m\u001b[0mFalse\u001b[0m\u001b[0;34m,\u001b[0m\u001b[0mmaccoat\u001b[0m\u001b[0;34m=\u001b[0m\u001b[0mmacscale\u001b[0m\u001b[0;34m,\u001b[0m\u001b[0msaveDT\u001b[0m\u001b[0;34m=\u001b[0m\u001b[0msaveDT\u001b[0m\u001b[0;34m,\u001b[0m\u001b[0mclogswitch\u001b[0m\u001b[0;34m=\u001b[0m\u001b[0mclogswitch\u001b[0m\u001b[0;34m,\u001b[0m\u001b[0minfilt_method\u001b[0m\u001b[0;34m=\u001b[0m\u001b[0minfiltmeth\u001b[0m\u001b[0;34m,\u001b[0m\u001b[0mexfilt_method\u001b[0m\u001b[0;34m=\u001b[0m\u001b[0mexfiltmeth\u001b[0m\u001b[0;34m,\u001b[0m\u001b[0mfilm\u001b[0m\u001b[0;34m=\u001b[0m\u001b[0mfilm\u001b[0m\u001b[0;34m,\u001b[0m\u001b[0minfiltscale\u001b[0m\u001b[0;34m=\u001b[0m\u001b[0minfiltscale\u001b[0m\u001b[0;34m)\u001b[0m\u001b[0;34m\u001b[0m\u001b[0m\n\u001b[0m\u001b[1;32m     10\u001b[0m     \u001b[0mTSstore\u001b[0m\u001b[0;34m[\u001b[0m\u001b[0mi\u001b[0m\u001b[0;34m,\u001b[0m\u001b[0;34m:\u001b[0m\u001b[0;34m,\u001b[0m\u001b[0;34m:\u001b[0m\u001b[0;34m]\u001b[0m\u001b[0;34m=\u001b[0m\u001b[0mrE\u001b[0m\u001b[0;34m.\u001b[0m\u001b[0mpart_store\u001b[0m\u001b[0;34m(\u001b[0m\u001b[0mparticles\u001b[0m\u001b[0;34m,\u001b[0m\u001b[0mmc\u001b[0m\u001b[0;34m)\u001b[0m\u001b[0;34m\u001b[0m\u001b[0m\n\u001b[1;32m     11\u001b[0m     \u001b[0;32mif\u001b[0m \u001b[0mi\u001b[0m\u001b[0;34m/\u001b[0m\u001b[0;36m5.\u001b[0m\u001b[0;34m==\u001b[0m\u001b[0mnp\u001b[0m\u001b[0;34m.\u001b[0m\u001b[0mround\u001b[0m\u001b[0;34m(\u001b[0m\u001b[0mi\u001b[0m\u001b[0;34m/\u001b[0m\u001b[0;36m5.\u001b[0m\u001b[0;34m)\u001b[0m\u001b[0;34m:\u001b[0m\u001b[0;34m\u001b[0m\u001b[0m\n",
        "\u001b[0;32m/Users/cojack/Documents/phd/caos/caos_model/echoRD_clean/wollef_F1/run_echoRD.py\u001b[0m in \u001b[0;36mCAOSpy_rundx1\u001b[0;34m(tstart, tstop, mc, pdyn, cinf, precTS, particles, leftover, drained, dt_max, splitfac, prec_2D, maccoat, exfilt_method, saveDT, vertcalfac, latcalfac, clogswitch, infilt_method, film, infiltscale, dynamic_pedo, counteractpow)\u001b[0m\n\u001b[1;32m    143\u001b[0m         \u001b[0;31m#[particles,thS,npart,phi_mx]=pdyn.part_diffusion_binned(particles,npart,thS,mc,dt)\u001b[0m\u001b[0;34m\u001b[0m\u001b[0;34m\u001b[0m\u001b[0m\n\u001b[1;32m    144\u001b[0m \u001b[0;34m\u001b[0m\u001b[0m\n\u001b[0;32m--> 145\u001b[0;31m         \u001b[0;34m[\u001b[0m\u001b[0mparticles\u001b[0m\u001b[0;34m,\u001b[0m\u001b[0mthS\u001b[0m\u001b[0;34m,\u001b[0m\u001b[0mnpart\u001b[0m\u001b[0;34m,\u001b[0m\u001b[0mphi_mx\u001b[0m\u001b[0;34m]\u001b[0m\u001b[0;34m=\u001b[0m\u001b[0mpdyn\u001b[0m\u001b[0;34m.\u001b[0m\u001b[0mpart_diffusion_binned_pd\u001b[0m\u001b[0;34m(\u001b[0m\u001b[0mparticles\u001b[0m\u001b[0;34m,\u001b[0m\u001b[0mnpart\u001b[0m\u001b[0;34m,\u001b[0m\u001b[0mthS\u001b[0m\u001b[0;34m,\u001b[0m\u001b[0mmc\u001b[0m\u001b[0;34m)\u001b[0m\u001b[0;34m\u001b[0m\u001b[0m\n\u001b[0m\u001b[1;32m    146\u001b[0m         \u001b[0;31m#ADVECTION\u001b[0m\u001b[0;34m\u001b[0m\u001b[0;34m\u001b[0m\u001b[0m\n\u001b[1;32m    147\u001b[0m         \u001b[0;32mif\u001b[0m \u001b[0;32mnot\u001b[0m \u001b[0mparticles\u001b[0m\u001b[0;34m.\u001b[0m\u001b[0mloc\u001b[0m\u001b[0;34m[\u001b[0m\u001b[0;34m(\u001b[0m\u001b[0mparticles\u001b[0m\u001b[0;34m.\u001b[0m\u001b[0mflag\u001b[0m\u001b[0;34m>\u001b[0m\u001b[0;36m0\u001b[0m\u001b[0;34m)\u001b[0m \u001b[0;34m&\u001b[0m \u001b[0;34m(\u001b[0m\u001b[0mparticles\u001b[0m\u001b[0;34m.\u001b[0m\u001b[0mflag\u001b[0m\u001b[0;34m<\u001b[0m\u001b[0mlen\u001b[0m\u001b[0;34m(\u001b[0m\u001b[0mmc\u001b[0m\u001b[0;34m.\u001b[0m\u001b[0mmaccols\u001b[0m\u001b[0;34m)\u001b[0m\u001b[0;34m+\u001b[0m\u001b[0;36m1\u001b[0m\u001b[0;34m)\u001b[0m\u001b[0;34m]\u001b[0m\u001b[0;34m.\u001b[0m\u001b[0mempty\u001b[0m\u001b[0;34m:\u001b[0m\u001b[0;34m\u001b[0m\u001b[0m\n",
        "\u001b[0;32m/Users/cojack/Documents/phd/caos/caos_model/echoRD_clean/partdyn_d5.pyc\u001b[0m in \u001b[0;36mpart_diffusion_binned_pd\u001b[0;34m(particles, npart, thS, mc, panda)\u001b[0m\n\u001b[1;32m   1495\u001b[0m             \u001b[0;32mprint\u001b[0m\u001b[0;34m(\u001b[0m\u001b[0;34m'PROBLEM at S_id'\u001b[0m\u001b[0;34m)\u001b[0m\u001b[0;34m\u001b[0m\u001b[0m\n\u001b[1;32m   1496\u001b[0m             \u001b[0;32mprint\u001b[0m\u001b[0;34m(\u001b[0m\u001b[0mS_id\u001b[0m\u001b[0;34m[\u001b[0m\u001b[0mS_id\u001b[0m\u001b[0;34m>=\u001b[0m\u001b[0;36m0\u001b[0m\u001b[0;34m]\u001b[0m\u001b[0;34m)\u001b[0m\u001b[0;34m\u001b[0m\u001b[0m\n\u001b[0;32m-> 1497\u001b[0;31m         \u001b[0mpar_diff_sub_pd\u001b[0m\u001b[0;34m(\u001b[0m\u001b[0mS_id\u001b[0m\u001b[0;34m,\u001b[0m\u001b[0mparticles\u001b[0m\u001b[0;34m,\u001b[0m\u001b[0mthS\u001b[0m\u001b[0;34m,\u001b[0m\u001b[0mmc\u001b[0m\u001b[0;34m,\u001b[0m\u001b[0mnpart\u001b[0m\u001b[0;34m)\u001b[0m\u001b[0;34m\u001b[0m\u001b[0m\n\u001b[0m\u001b[1;32m   1498\u001b[0m \u001b[0;34m\u001b[0m\u001b[0m\n\u001b[1;32m   1499\u001b[0m     \u001b[0;31m#update states\u001b[0m\u001b[0;34m\u001b[0m\u001b[0;34m\u001b[0m\u001b[0m\n",
        "\u001b[0;32m/Users/cojack/Documents/phd/caos/caos_model/echoRD_clean/partdyn_d5.pyc\u001b[0m in \u001b[0;36mpar_diff_sub_pd\u001b[0;34m(S_id, particles, thS, mc, npart)\u001b[0m\n\u001b[1;32m   1572\u001b[0m       \u001b[0;31m#here the bins need to update now, since this is the reference to the diffusivity now\u001b[0m\u001b[0;34m\u001b[0m\u001b[0;34m\u001b[0m\u001b[0m\n\u001b[1;32m   1573\u001b[0m       \u001b[0mparticles_c\u001b[0m\u001b[0;34m.\u001b[0m\u001b[0mcell\u001b[0m\u001b[0;34m=\u001b[0m\u001b[0mcellgrid\u001b[0m\u001b[0;34m(\u001b[0m\u001b[0mparticles_c\u001b[0m\u001b[0;34m.\u001b[0m\u001b[0mlat\u001b[0m\u001b[0;34m.\u001b[0m\u001b[0mvalues\u001b[0m\u001b[0;34m,\u001b[0m\u001b[0mparticles_c\u001b[0m\u001b[0;34m.\u001b[0m\u001b[0mz\u001b[0m\u001b[0;34m.\u001b[0m\u001b[0mvalues\u001b[0m\u001b[0;34m,\u001b[0m\u001b[0mmc\u001b[0m\u001b[0;34m)\u001b[0m\u001b[0;34m\u001b[0m\u001b[0m\n\u001b[0;32m-> 1574\u001b[0;31m       \u001b[0mparticles_c\u001b[0m\u001b[0;34m=\u001b[0m\u001b[0mparticles_c\u001b[0m\u001b[0;34m.\u001b[0m\u001b[0mgroupby\u001b[0m\u001b[0;34m(\u001b[0m\u001b[0;34m'cell'\u001b[0m\u001b[0;34m)\u001b[0m\u001b[0;34m.\u001b[0m\u001b[0mapply\u001b[0m\u001b[0;34m(\u001b[0m\u001b[0mbinupdate_pd\u001b[0m\u001b[0;34m,\u001b[0m\u001b[0mmc\u001b[0m\u001b[0;34m)\u001b[0m\u001b[0;34m\u001b[0m\u001b[0m\n\u001b[0m\u001b[1;32m   1575\u001b[0m       \u001b[0;34m[\u001b[0m\u001b[0mthS_c\u001b[0m\u001b[0;34m,\u001b[0m\u001b[0mnpart_c\u001b[0m\u001b[0;34m]\u001b[0m \u001b[0;34m=\u001b[0m \u001b[0mgridupdate_thS\u001b[0m\u001b[0;34m(\u001b[0m\u001b[0mparticles_c\u001b[0m\u001b[0;34m.\u001b[0m\u001b[0mloc\u001b[0m\u001b[0;34m[\u001b[0m\u001b[0mparticles_c\u001b[0m\u001b[0;34m.\u001b[0m\u001b[0mflag\u001b[0m\u001b[0;34m==\u001b[0m\u001b[0;36m0\u001b[0m\u001b[0;34m,\u001b[0m\u001b[0;34m'lat'\u001b[0m\u001b[0;34m]\u001b[0m\u001b[0;34m.\u001b[0m\u001b[0mvalues\u001b[0m\u001b[0;34m,\u001b[0m\u001b[0mparticles_c\u001b[0m\u001b[0;34m.\u001b[0m\u001b[0mloc\u001b[0m\u001b[0;34m[\u001b[0m\u001b[0mparticles_c\u001b[0m\u001b[0;34m.\u001b[0m\u001b[0mflag\u001b[0m\u001b[0;34m==\u001b[0m\u001b[0;36m0\u001b[0m\u001b[0;34m,\u001b[0m\u001b[0;34m'z'\u001b[0m\u001b[0;34m]\u001b[0m\u001b[0;34m.\u001b[0m\u001b[0mvalues\u001b[0m\u001b[0;34m,\u001b[0m\u001b[0mmc\u001b[0m\u001b[0;34m)\u001b[0m\u001b[0;34m\u001b[0m\u001b[0m\n\u001b[1;32m   1576\u001b[0m       \u001b[0;32mif\u001b[0m \u001b[0many\u001b[0m\u001b[0;34m(\u001b[0m\u001b[0mparticles_c\u001b[0m\u001b[0;34m.\u001b[0m\u001b[0mcell\u001b[0m\u001b[0;34m<\u001b[0m\u001b[0;36m0\u001b[0m\u001b[0;34m)\u001b[0m\u001b[0;34m:\u001b[0m\u001b[0;34m\u001b[0m\u001b[0m\n",
        "\u001b[0;32m/usr/local/lib/python2.7/site-packages/pandas/core/groupby.pyc\u001b[0m in \u001b[0;36mapply\u001b[0;34m(self, func, *args, **kwargs)\u001b[0m\n\u001b[1;32m    713\u001b[0m         \u001b[0;31m# ignore SettingWithCopy here in case the user mutates\u001b[0m\u001b[0;34m\u001b[0m\u001b[0;34m\u001b[0m\u001b[0m\n\u001b[1;32m    714\u001b[0m         \u001b[0;32mwith\u001b[0m \u001b[0moption_context\u001b[0m\u001b[0;34m(\u001b[0m\u001b[0;34m'mode.chained_assignment'\u001b[0m\u001b[0;34m,\u001b[0m\u001b[0mNone\u001b[0m\u001b[0;34m)\u001b[0m\u001b[0;34m:\u001b[0m\u001b[0;34m\u001b[0m\u001b[0m\n\u001b[0;32m--> 715\u001b[0;31m             \u001b[0;32mreturn\u001b[0m \u001b[0mself\u001b[0m\u001b[0;34m.\u001b[0m\u001b[0m_python_apply_general\u001b[0m\u001b[0;34m(\u001b[0m\u001b[0mf\u001b[0m\u001b[0;34m)\u001b[0m\u001b[0;34m\u001b[0m\u001b[0m\n\u001b[0m\u001b[1;32m    716\u001b[0m \u001b[0;34m\u001b[0m\u001b[0m\n\u001b[1;32m    717\u001b[0m     \u001b[0;32mdef\u001b[0m \u001b[0m_python_apply_general\u001b[0m\u001b[0;34m(\u001b[0m\u001b[0mself\u001b[0m\u001b[0;34m,\u001b[0m \u001b[0mf\u001b[0m\u001b[0;34m)\u001b[0m\u001b[0;34m:\u001b[0m\u001b[0;34m\u001b[0m\u001b[0m\n",
        "\u001b[0;32m/usr/local/lib/python2.7/site-packages/pandas/core/groupby.pyc\u001b[0m in \u001b[0;36m_python_apply_general\u001b[0;34m(self, f)\u001b[0m\n\u001b[1;32m    720\u001b[0m \u001b[0;34m\u001b[0m\u001b[0m\n\u001b[1;32m    721\u001b[0m         return self._wrap_applied_output(keys, values,\n\u001b[0;32m--> 722\u001b[0;31m                                          not_indexed_same=mutated)\n\u001b[0m\u001b[1;32m    723\u001b[0m \u001b[0;34m\u001b[0m\u001b[0m\n\u001b[1;32m    724\u001b[0m     \u001b[0;32mdef\u001b[0m \u001b[0maggregate\u001b[0m\u001b[0;34m(\u001b[0m\u001b[0mself\u001b[0m\u001b[0;34m,\u001b[0m \u001b[0mfunc\u001b[0m\u001b[0;34m,\u001b[0m \u001b[0;34m*\u001b[0m\u001b[0margs\u001b[0m\u001b[0;34m,\u001b[0m \u001b[0;34m**\u001b[0m\u001b[0mkwargs\u001b[0m\u001b[0;34m)\u001b[0m\u001b[0;34m:\u001b[0m\u001b[0;34m\u001b[0m\u001b[0m\n",
        "\u001b[0;32m/usr/local/lib/python2.7/site-packages/pandas/core/groupby.pyc\u001b[0m in \u001b[0;36m_wrap_applied_output\u001b[0;34m(self, keys, values, not_indexed_same)\u001b[0m\n\u001b[1;32m   3107\u001b[0m         \u001b[0;32mif\u001b[0m \u001b[0misinstance\u001b[0m\u001b[0;34m(\u001b[0m\u001b[0mvalues\u001b[0m\u001b[0;34m[\u001b[0m\u001b[0;36m0\u001b[0m\u001b[0;34m]\u001b[0m\u001b[0;34m,\u001b[0m \u001b[0mDataFrame\u001b[0m\u001b[0;34m)\u001b[0m\u001b[0;34m:\u001b[0m\u001b[0;34m\u001b[0m\u001b[0m\n\u001b[1;32m   3108\u001b[0m             return self._concat_objects(keys, values,\n\u001b[0;32m-> 3109\u001b[0;31m                                         not_indexed_same=not_indexed_same)\n\u001b[0m\u001b[1;32m   3110\u001b[0m         \u001b[0;32melif\u001b[0m \u001b[0mself\u001b[0m\u001b[0;34m.\u001b[0m\u001b[0mgrouper\u001b[0m\u001b[0;34m.\u001b[0m\u001b[0mgroupings\u001b[0m \u001b[0;32mis\u001b[0m \u001b[0;32mnot\u001b[0m \u001b[0mNone\u001b[0m\u001b[0;34m:\u001b[0m\u001b[0;34m\u001b[0m\u001b[0m\n\u001b[1;32m   3111\u001b[0m             \u001b[0;32mif\u001b[0m \u001b[0mlen\u001b[0m\u001b[0;34m(\u001b[0m\u001b[0mself\u001b[0m\u001b[0;34m.\u001b[0m\u001b[0mgrouper\u001b[0m\u001b[0;34m.\u001b[0m\u001b[0mgroupings\u001b[0m\u001b[0;34m)\u001b[0m \u001b[0;34m>\u001b[0m \u001b[0;36m1\u001b[0m\u001b[0;34m:\u001b[0m\u001b[0;34m\u001b[0m\u001b[0m\n",
        "\u001b[0;32m/usr/local/lib/python2.7/site-packages/pandas/core/groupby.pyc\u001b[0m in \u001b[0;36m_concat_objects\u001b[0;34m(self, keys, values, not_indexed_same)\u001b[0m\n\u001b[1;32m   1254\u001b[0m \u001b[0;34m\u001b[0m\u001b[0m\n\u001b[1;32m   1255\u001b[0m         \u001b[0;32mif\u001b[0m \u001b[0;32mnot\u001b[0m \u001b[0mnot_indexed_same\u001b[0m\u001b[0;34m:\u001b[0m\u001b[0;34m\u001b[0m\u001b[0m\n\u001b[0;32m-> 1256\u001b[0;31m             \u001b[0mresult\u001b[0m \u001b[0;34m=\u001b[0m \u001b[0mconcat\u001b[0m\u001b[0;34m(\u001b[0m\u001b[0mvalues\u001b[0m\u001b[0;34m,\u001b[0m \u001b[0maxis\u001b[0m\u001b[0;34m=\u001b[0m\u001b[0mself\u001b[0m\u001b[0;34m.\u001b[0m\u001b[0maxis\u001b[0m\u001b[0;34m)\u001b[0m\u001b[0;34m\u001b[0m\u001b[0m\n\u001b[0m\u001b[1;32m   1257\u001b[0m             \u001b[0max\u001b[0m \u001b[0;34m=\u001b[0m \u001b[0mself\u001b[0m\u001b[0;34m.\u001b[0m\u001b[0m_selected_obj\u001b[0m\u001b[0;34m.\u001b[0m\u001b[0m_get_axis\u001b[0m\u001b[0;34m(\u001b[0m\u001b[0mself\u001b[0m\u001b[0;34m.\u001b[0m\u001b[0maxis\u001b[0m\u001b[0;34m)\u001b[0m\u001b[0;34m\u001b[0m\u001b[0m\n\u001b[1;32m   1258\u001b[0m \u001b[0;34m\u001b[0m\u001b[0m\n",
        "\u001b[0;32m/usr/local/lib/python2.7/site-packages/pandas/tools/merge.pyc\u001b[0m in \u001b[0;36mconcat\u001b[0;34m(objs, axis, join, join_axes, ignore_index, keys, levels, names, verify_integrity, copy)\u001b[0m\n\u001b[1;32m    811\u001b[0m                        \u001b[0mverify_integrity\u001b[0m\u001b[0;34m=\u001b[0m\u001b[0mverify_integrity\u001b[0m\u001b[0;34m,\u001b[0m\u001b[0;34m\u001b[0m\u001b[0m\n\u001b[1;32m    812\u001b[0m                        copy=copy)\n\u001b[0;32m--> 813\u001b[0;31m     \u001b[0;32mreturn\u001b[0m \u001b[0mop\u001b[0m\u001b[0;34m.\u001b[0m\u001b[0mget_result\u001b[0m\u001b[0;34m(\u001b[0m\u001b[0;34m)\u001b[0m\u001b[0;34m\u001b[0m\u001b[0m\n\u001b[0m\u001b[1;32m    814\u001b[0m \u001b[0;34m\u001b[0m\u001b[0m\n\u001b[1;32m    815\u001b[0m \u001b[0;34m\u001b[0m\u001b[0m\n",
        "\u001b[0;32m/usr/local/lib/python2.7/site-packages/pandas/tools/merge.pyc\u001b[0m in \u001b[0;36mget_result\u001b[0;34m(self)\u001b[0m\n\u001b[1;32m    993\u001b[0m \u001b[0;34m\u001b[0m\u001b[0m\n\u001b[1;32m    994\u001b[0m             new_data = concatenate_block_managers(\n\u001b[0;32m--> 995\u001b[0;31m                 mgrs_indexers, self.new_axes, concat_axis=self.axis, copy=self.copy)\n\u001b[0m\u001b[1;32m    996\u001b[0m             \u001b[0;32mif\u001b[0m \u001b[0;32mnot\u001b[0m \u001b[0mself\u001b[0m\u001b[0;34m.\u001b[0m\u001b[0mcopy\u001b[0m\u001b[0;34m:\u001b[0m\u001b[0;34m\u001b[0m\u001b[0m\n\u001b[1;32m    997\u001b[0m                 \u001b[0mnew_data\u001b[0m\u001b[0;34m.\u001b[0m\u001b[0m_consolidate_inplace\u001b[0m\u001b[0;34m(\u001b[0m\u001b[0;34m)\u001b[0m\u001b[0;34m\u001b[0m\u001b[0m\n",
        "\u001b[0;32m/usr/local/lib/python2.7/site-packages/pandas/core/internals.pyc\u001b[0m in \u001b[0;36mconcatenate_block_managers\u001b[0;34m(mgrs_indexers, axes, concat_axis, copy)\u001b[0m\n\u001b[1;32m   4454\u001b[0m                                                 copy=copy),\n\u001b[1;32m   4455\u001b[0m                          placement=placement)\n\u001b[0;32m-> 4456\u001b[0;31m               for placement, join_units in concat_plan]\n\u001b[0m\u001b[1;32m   4457\u001b[0m \u001b[0;34m\u001b[0m\u001b[0m\n\u001b[1;32m   4458\u001b[0m     \u001b[0;32mreturn\u001b[0m \u001b[0mBlockManager\u001b[0m\u001b[0;34m(\u001b[0m\u001b[0mblocks\u001b[0m\u001b[0;34m,\u001b[0m \u001b[0maxes\u001b[0m\u001b[0;34m)\u001b[0m\u001b[0;34m\u001b[0m\u001b[0m\n",
        "\u001b[0;32m/usr/local/lib/python2.7/site-packages/pandas/core/internals.pyc\u001b[0m in \u001b[0;36mconcatenate_join_units\u001b[0;34m(join_units, concat_axis, copy)\u001b[0m\n\u001b[1;32m   4559\u001b[0m             \u001b[0mconcat_values\u001b[0m \u001b[0;34m=\u001b[0m \u001b[0mconcat_values\u001b[0m\u001b[0;34m.\u001b[0m\u001b[0mcopy\u001b[0m\u001b[0;34m(\u001b[0m\u001b[0;34m)\u001b[0m\u001b[0;34m\u001b[0m\u001b[0m\n\u001b[1;32m   4560\u001b[0m     \u001b[0;32melse\u001b[0m\u001b[0;34m:\u001b[0m\u001b[0;34m\u001b[0m\u001b[0m\n\u001b[0;32m-> 4561\u001b[0;31m         \u001b[0mconcat_values\u001b[0m \u001b[0;34m=\u001b[0m \u001b[0mcom\u001b[0m\u001b[0;34m.\u001b[0m\u001b[0m_concat_compat\u001b[0m\u001b[0;34m(\u001b[0m\u001b[0mto_concat\u001b[0m\u001b[0;34m,\u001b[0m \u001b[0maxis\u001b[0m\u001b[0;34m=\u001b[0m\u001b[0mconcat_axis\u001b[0m\u001b[0;34m)\u001b[0m\u001b[0;34m\u001b[0m\u001b[0m\n\u001b[0m\u001b[1;32m   4562\u001b[0m \u001b[0;34m\u001b[0m\u001b[0m\n\u001b[1;32m   4563\u001b[0m     \u001b[0;32mreturn\u001b[0m \u001b[0mconcat_values\u001b[0m\u001b[0;34m\u001b[0m\u001b[0m\n",
        "\u001b[0;32m/usr/local/lib/python2.7/site-packages/pandas/core/common.pyc\u001b[0m in \u001b[0;36m_concat_compat\u001b[0;34m(to_concat, axis)\u001b[0m\n\u001b[1;32m   2541\u001b[0m     \u001b[0;31m# np.concatenate which has them both implemented is compiled.\u001b[0m\u001b[0;34m\u001b[0m\u001b[0;34m\u001b[0m\u001b[0m\n\u001b[1;32m   2542\u001b[0m \u001b[0;34m\u001b[0m\u001b[0m\n\u001b[0;32m-> 2543\u001b[0;31m     \u001b[0mtyps\u001b[0m \u001b[0;34m=\u001b[0m \u001b[0mget_dtype_kinds\u001b[0m\u001b[0;34m(\u001b[0m\u001b[0mto_concat\u001b[0m\u001b[0;34m)\u001b[0m\u001b[0;34m\u001b[0m\u001b[0m\n\u001b[0m\u001b[1;32m   2544\u001b[0m \u001b[0;34m\u001b[0m\u001b[0m\n\u001b[1;32m   2545\u001b[0m     \u001b[0;31m# these are mandated to handle empties as well\u001b[0m\u001b[0;34m\u001b[0m\u001b[0;34m\u001b[0m\u001b[0m\n",
        "\u001b[0;32m/usr/local/lib/python2.7/site-packages/pandas/core/common.pyc\u001b[0m in \u001b[0;36mget_dtype_kinds\u001b[0;34m(l)\u001b[0m\n\u001b[1;32m   2490\u001b[0m \u001b[0;34m\u001b[0m\u001b[0m\n\u001b[1;32m   2491\u001b[0m         \u001b[0mdtype\u001b[0m \u001b[0;34m=\u001b[0m \u001b[0marr\u001b[0m\u001b[0;34m.\u001b[0m\u001b[0mdtype\u001b[0m\u001b[0;34m\u001b[0m\u001b[0m\n\u001b[0;32m-> 2492\u001b[0;31m         \u001b[0;32mif\u001b[0m \u001b[0mis_categorical_dtype\u001b[0m\u001b[0;34m(\u001b[0m\u001b[0mdtype\u001b[0m\u001b[0;34m)\u001b[0m\u001b[0;34m:\u001b[0m\u001b[0;34m\u001b[0m\u001b[0m\n\u001b[0m\u001b[1;32m   2493\u001b[0m             \u001b[0mtyp\u001b[0m \u001b[0;34m=\u001b[0m \u001b[0;34m'category'\u001b[0m\u001b[0;34m\u001b[0m\u001b[0m\n\u001b[1;32m   2494\u001b[0m         \u001b[0;32melif\u001b[0m \u001b[0mis_sparse\u001b[0m\u001b[0;34m(\u001b[0m\u001b[0marr\u001b[0m\u001b[0;34m)\u001b[0m\u001b[0;34m:\u001b[0m\u001b[0;34m\u001b[0m\u001b[0m\n",
        "\u001b[0;32m/usr/local/lib/python2.7/site-packages/pandas/core/common.pyc\u001b[0m in \u001b[0;36mis_categorical_dtype\u001b[0;34m(arr_or_dtype)\u001b[0m\n\u001b[1;32m   2300\u001b[0m \u001b[0;34m\u001b[0m\u001b[0m\n\u001b[1;32m   2301\u001b[0m \u001b[0;32mdef\u001b[0m \u001b[0mis_categorical_dtype\u001b[0m\u001b[0;34m(\u001b[0m\u001b[0marr_or_dtype\u001b[0m\u001b[0;34m)\u001b[0m\u001b[0;34m:\u001b[0m\u001b[0;34m\u001b[0m\u001b[0m\n\u001b[0;32m-> 2302\u001b[0;31m     \u001b[0;32mreturn\u001b[0m \u001b[0mCategoricalDtype\u001b[0m\u001b[0;34m.\u001b[0m\u001b[0mis_dtype\u001b[0m\u001b[0;34m(\u001b[0m\u001b[0marr_or_dtype\u001b[0m\u001b[0;34m)\u001b[0m\u001b[0;34m\u001b[0m\u001b[0m\n\u001b[0m\u001b[1;32m   2303\u001b[0m \u001b[0;34m\u001b[0m\u001b[0m\n\u001b[1;32m   2304\u001b[0m \u001b[0;32mdef\u001b[0m \u001b[0mis_complex_dtype\u001b[0m\u001b[0;34m(\u001b[0m\u001b[0marr_or_dtype\u001b[0m\u001b[0;34m)\u001b[0m\u001b[0;34m:\u001b[0m\u001b[0;34m\u001b[0m\u001b[0m\n",
        "\u001b[0;32m/usr/local/lib/python2.7/site-packages/pandas/core/dtypes.pyc\u001b[0m in \u001b[0;36mis_dtype\u001b[0;34m(cls, dtype)\u001b[0m\n\u001b[1;32m     66\u001b[0m         \u001b[0;32mraise\u001b[0m \u001b[0mNotImplementedError\u001b[0m\u001b[0;34m(\u001b[0m\u001b[0;34m\"sub-classes should implement an __eq__ method\"\u001b[0m\u001b[0;34m)\u001b[0m\u001b[0;34m\u001b[0m\u001b[0m\n\u001b[1;32m     67\u001b[0m \u001b[0;34m\u001b[0m\u001b[0m\n\u001b[0;32m---> 68\u001b[0;31m     \u001b[0;34m@\u001b[0m\u001b[0mclassmethod\u001b[0m\u001b[0;34m\u001b[0m\u001b[0m\n\u001b[0m\u001b[1;32m     69\u001b[0m     \u001b[0;32mdef\u001b[0m \u001b[0mis_dtype\u001b[0m\u001b[0;34m(\u001b[0m\u001b[0mcls\u001b[0m\u001b[0;34m,\u001b[0m \u001b[0mdtype\u001b[0m\u001b[0;34m)\u001b[0m\u001b[0;34m:\u001b[0m\u001b[0;34m\u001b[0m\u001b[0m\n\u001b[1;32m     70\u001b[0m         \u001b[0;34m\"\"\" Return a boolean if we if the passed type is an actual dtype that we can match (via string or type) \"\"\"\u001b[0m\u001b[0;34m\u001b[0m\u001b[0m\n",
        "\u001b[0;31mKeyboardInterrupt\u001b[0m: "
       ]
      }
     ],
     "prompt_number": 24
    },
    {
     "cell_type": "code",
     "collapsed": false,
     "input": [
      "TSstore[0,:,:]"
     ],
     "language": "python",
     "metadata": {},
     "outputs": [
      {
       "metadata": {},
       "output_type": "pyout",
       "prompt_number": 25,
       "text": [
        "array([[   0.,  118.],\n",
        "       [   0.,  120.],\n",
        "       [   0.,  119.],\n",
        "       ..., \n",
        "       [   0.,  164.],\n",
        "       [   0.,  163.],\n",
        "       [   0.,  164.]])"
       ]
      }
     ],
     "prompt_number": 25
    },
    {
     "cell_type": "code",
     "collapsed": false,
     "input": [
      "A=[3.70,2.20,2.50,1.30,2.10,2.60,2.40,3.20,5.50,9.00,4.30,1.90,3.60,7.40,10.1,10.2,9.20,5.30,6.60,7.40]\n",
      "np.mean(A)*30\n"
     ],
     "language": "python",
     "metadata": {},
     "outputs": [
      {
       "metadata": {},
       "output_type": "pyout",
       "prompt_number": 2,
       "text": [
        "150.75"
       ]
      }
     ],
     "prompt_number": 2
    },
    {
     "cell_type": "code",
     "collapsed": false,
     "input": [
      "# Store data (serialize)\n",
      "mcdict=mc.__dict__\n",
      "with open(''.join(['./results/Z',runname,'_Mstat.pick']),'wb') as handle:\n",
      "    pickle.dump(particles, handle)\n"
     ],
     "language": "python",
     "metadata": {},
     "outputs": [],
     "prompt_number": 42
    },
    {
     "cell_type": "code",
     "collapsed": false,
     "input": [
      "#remove excess particles\n",
      "\n",
      "p2=pdyn.mx_mp_interact_nobulk(particles,npart,thS,mc,0.5)\n",
      "plot(p2.loc[p2.flag==0].lat,p2.loc[p2.flag==0].z,'.')\n",
      "plot(p2.loc[p2.flag>0].lat,p2.loc[p2.flag>0].z,'.')\n",
      "axis('equal')\n",
      "xlim(0.,mc.mxwidth)\n",
      "ylim(-0.7,0.)\n",
      "\n",
      "#particles=p2.loc[p2.flag==0.]"
     ],
     "language": "python",
     "metadata": {},
     "outputs": [
      {
       "metadata": {},
       "output_type": "pyout",
       "prompt_number": 20,
       "text": [
        "(-0.7, 0.0)"
       ]
      },
      {
       "metadata": {},
       "output_type": "display_data",
       "png": "[encoded data removed]",
       "text": [
        "<matplotlib.figure.Figure at 0x118087ed0>"
       ]
      }
     ],
     "prompt_number": 20
    },
    {
     "cell_type": "code",
     "collapsed": false,
     "input": [
      "mc.psi100[thS,mc.soilgrid]"
     ],
     "language": "python",
     "metadata": {},
     "outputs": [
      {
       "metadata": {},
       "output_type": "pyout",
       "prompt_number": 43,
       "text": [
        "array([[-0.16438973, -0.16438973, -0.16438973, ..., -0.16438973,\n",
        "        -0.16438973, -0.16438973],\n",
        "       [-0.16438973, -0.16438973, -0.16438973, ..., -0.16438973,\n",
        "        -0.16438973, -0.16438973],\n",
        "       [-0.16438973, -0.16438973, -0.16438973, ..., -0.16438973,\n",
        "        -0.16438973, -0.16438973],\n",
        "       ..., \n",
        "       [-0.39321156, -0.39321156, -0.39321156, ..., -0.39321156,\n",
        "        -0.39321156, -0.39321156],\n",
        "       [-0.39321156, -0.39321156, -0.39321156, ..., -0.39321156,\n",
        "        -0.39321156, -0.39321156],\n",
        "       [-0.39321156, -0.39321156, -0.39321156, ..., -0.39321156,\n",
        "        -0.39321156, -0.39321156]])"
       ]
      }
     ],
     "prompt_number": 43
    },
    {
     "cell_type": "code",
     "collapsed": false,
     "input": [
      "'time: 0.5s  |  particles: 977794  |  precip: 79121  |  advect: 15224  |  exfilt: 489  |  mean v(adv): -0.06362988 m/s'\n",
      "'time: 1.0s  |  particles: 977691  |  precip: 162891  |  advect: 25887  |  exfilt: 845  |  mean v(adv): -0.05512116 m/s'\n",
      "'time: 1.5s  |  particles: 977662  |  precip: 209015  |  advect: 34579  |  exfilt: 2336  |  mean v(adv): -0.05118685 m/s'\n",
      "'time: 2.0s  |  particles: 977659  |  precip: 237767  |  advect: 48924  |  exfilt: 806  |  mean v(adv): -0.05097462 m/s'\n",
      "'time: 2.5s  |  particles: 977658  |  precip: 262580  |  advect: 56532  |  exfilt: 2206  |  mean v(adv): -0.04058669 m/s'\n",
      "'time: 3.0s  |  particles: 977658  |  precip: 283805  |  advect: 69142  |  exfilt: 928  |  mean v(adv): -0.04781877 m/s'\n"
     ],
     "language": "python",
     "metadata": {},
     "outputs": [
      {
       "metadata": {},
       "output_type": "pyout",
       "prompt_number": 1,
       "text": [
        "'time: 3.0s  |  particles: 977658  |  precip: 283805  |  advect: 69142  |  exfilt: 928  |  mean v(adv): -0.04781877 m/s'"
       ]
      }
     ],
     "prompt_number": 1
    },
    {
     "cell_type": "code",
     "collapsed": false,
     "input": [
      "particles.loc[particles.lat<0]"
     ],
     "language": "python",
     "metadata": {},
     "outputs": [
      {
       "html": [
        "<div style=\"max-width:1500px;overflow:auto;\">\n",
        "<table border=\"1\" class=\"dataframe\">\n",
        "  <thead>\n",
        "    <tr style=\"text-align: right;\">\n",
        "      <th></th>\n",
        "      <th>lat</th>\n",
        "      <th>z</th>\n",
        "      <th>conc</th>\n",
        "      <th>temp</th>\n",
        "      <th>age</th>\n",
        "      <th>flag</th>\n",
        "      <th>fastlane</th>\n",
        "      <th>advect</th>\n",
        "      <th>cell</th>\n",
        "      <th>LTEbin</th>\n",
        "      <th>exfilt</th>\n",
        "    </tr>\n",
        "  </thead>\n",
        "  <tbody>\n",
        "  </tbody>\n",
        "</table>\n",
        "</div>"
       ],
       "metadata": {},
       "output_type": "pyout",
       "prompt_number": 19,
       "text": [
        "Empty DataFrame\n",
        "Columns: [lat, z, conc, temp, age, flag, fastlane, advect, cell, LTEbin, exfilt]\n",
        "Index: []"
       ]
      }
     ],
     "prompt_number": 19
    },
    {
     "cell_type": "code",
     "collapsed": false,
     "input": [
      "mc.dt=0.5\n",
      "mc.splitfac=1\n",
      "[particles2,thS2,npart2,phi_mx2]=pdyn.part_diffusion_binned_pd(particles,npart,thS,mc)"
     ],
     "language": "python",
     "metadata": {},
     "outputs": [
      {
       "output_type": "stream",
       "stream": "stderr",
       "text": [
        "/usr/local/lib/python2.7/site-packages/pandas/core/indexing.py:117: SettingWithCopyWarning: \n",
        "A value is trying to be set on a copy of a slice from a DataFrame\n",
        "\n",
        "See the caveats in the documentation: http://pandas.pydata.org/pandas-docs/stable/indexing.html#indexing-view-versus-copy\n",
        "  self._setitem_with_indexer(indexer, value)\n"
       ]
      }
     ],
     "prompt_number": 20
    },
    {
     "cell_type": "code",
     "collapsed": false,
     "input": [
      "subplot(121)\n",
      "imshow(thS,vmin=0,vmax=100,cmap='jet')\n",
      "subplot(122)\n",
      "imshow(thS2,vmin=0,vmax=100,cmap='jet')\n"
     ],
     "language": "python",
     "metadata": {},
     "outputs": [
      {
       "metadata": {},
       "output_type": "pyout",
       "prompt_number": 21,
       "text": [
        "<matplotlib.image.AxesImage at 0x11b654c50>"
       ]
      },
      {
       "metadata": {},
       "output_type": "display_data",
       "png": "[encoded data removed]",
       "text": [
        "<matplotlib.figure.Figure at 0x11df7eb10>"
       ]
      }
     ],
     "prompt_number": 21
    },
    {
     "cell_type": "code",
     "collapsed": false,
     "input": [
      "subplot(121)\n",
      "plot(particles.loc[particles.flag==0].lat,particles.loc[particles.flag==0].z,'.')\n",
      "plot(particles.loc[particles.flag>0].lat,particles.loc[particles.flag>0].z,'.')\n",
      "axis('equal')\n",
      "\n",
      "subplot(122)\n",
      "plot(particles2.loc[particles2.flag==0].lat,particles2.loc[particles2.flag==0].z,'.')\n",
      "plot(particles2.loc[particles2.flag>0].lat,particles2.loc[particles2.flag>0].z,'.')\n",
      "axis('equal')\n"
     ],
     "language": "python",
     "metadata": {},
     "outputs": [
      {
       "metadata": {},
       "output_type": "pyout",
       "prompt_number": 22,
       "text": [
        "(0.0, 0.35000000000000003, -0.70000000000000007, 0.099999999999999978)"
       ]
      },
      {
       "metadata": {},
       "output_type": "display_data",
       "png": "[encoded data removed]",
       "text": [
        "<matplotlib.figure.Figure at 0x117dab910>"
       ]
      }
     ],
     "prompt_number": 22
    },
    {
     "cell_type": "code",
     "collapsed": false,
     "input": [
      "particles_c=particles.copy()\n",
      "S_id=particles[particles.flag==0].index.values\n",
      "N=len(S_id) #number of particles handled\n",
      "# 1D Random Walk function with additional correction term for\n",
      "# non-static diffusion after Uffink 1990 p.15 & p.24ff and Kitanidis 1994\n",
      "xi=np.random.rand(N,2)*2.-1. #this gives a uniform distribution\n",
      "cells=particles.cell.loc[S_id].astype(np.intp).values\n",
      "s_cells=mc.soilgrid.ravel()[cells]-1\n",
      "theta=mc.soilmatrix.ts[s_cells].values*thS.ravel()[cells]/100.\n",
      "psi_euler=mc.psi100[thS.ravel()[cells],s_cells]\n",
      "particles.LTEbin.loc[S_id]=np.fmin(particles.LTEbin.loc[S_id].astype(np.intp).values,len(mc.ku)-1) #debug LTE too large\n",
      "u=mc.ku[particles.LTEbin.loc[S_id].astype(np.intp).values,s_cells]*theta\n",
      "D=mc.D[particles.LTEbin.loc[S_id].astype(np.intp).values,s_cells]*theta\n",
      "\n",
      "#project step with dt based on starting conditions\n",
      "vert_sproj=(mc.dt*u + (xi[:,0]*((6*D*mc.dt)**0.5)))\n",
      "lat_sproj=(xi[:,1]*((6*D*mc.dt)**0.5))\n",
      "\n",
      "#It\u00f4 Scheme after Uffink 1990 and Kitanidis 1994 for vertical step\n",
      "#modified Ito Scheme after Kitanidis 1994 for lateral step\n",
      "dx=np.sqrt(vert_sproj**2+lat_sproj**2)\n",
      "# project step and updated state\n",
      "# new positions\n",
      "particles_c.lat.loc[S_id]+=lat_sproj\n",
      "particles_c.z.loc[S_id]-=vert_sproj\n",
      "[particles_c.lat,particles_c.z,nodrain]=pdyn.boundcheck(particles_c.lat.values,particles_c.z.values,mc)\n",
      "#here the bins need to update now, since this is the reference to the diffusivity now\n",
      "particles_c.cell=pdyn.cellgrid(particles_c.lat.values,particles_c.z.values,mc)\n",
      "particles_c=particles_c.groupby('cell').apply(pdyn.binupdate_pd,mc)\n",
      "[thS_c,npart_c] = pdyn.gridupdate_thS(particles_c.loc[particles_c.flag==0,'lat'].values,particles_c.loc[particles_c.flag==0,'z'].values,mc)\n",
      "s_cells=mc.soilgrid.ravel()[particles_c.cell.loc[S_id].astype(np.intp).values]-1\n",
      "theta=mc.soilmatrix.ts[s_cells].values*thS_c.ravel()[particles_c.cell.loc[S_id].astype(np.intp).values]/100.\n",
      "psi_euler2=mc.psi100[thS_c.ravel()[particles_c.cell.loc[S_id].astype(np.intp).values],s_cells]\n",
      "u_proj=mc.ku[particles_c.LTEbin.loc[S_id].astype(np.intp).values,s_cells]*theta\n",
      "D_proj=mc.D[particles_c.LTEbin.loc[S_id].astype(np.intp).values,s_cells]*theta\n",
      "psi_gradient=(psi_euler2-psi_euler)/dx\n",
      "psi_gradient[dx==0.]=0.\n",
      "\n",
      "#Stratonovich:\n",
      "#corrD=np.abs(D_proj-D)/dx\n",
      "#corrD[dx==0.]=0.\n",
      "D_mean=np.sqrt(D_proj*D)\n",
      "corru=np.sqrt(u_proj*u)\n",
      "##corrD[corrD>corru]=corru[corrD>corru]\n",
      "# corrected step\n",
      "#vert_sproj=((corru-corrD)*mc.dt + (xi[:,0]*((6*D_mean*mc.dt)**0.5)))\n",
      "#lat_sproj=(xi[:,1]/np.abs(xi[:,1]))*corrD*mc.dt + (xi[:,1]*((6*D_mean*mc.dt)**0.5))\n",
      "\n",
      "#Ito:\n",
      "corrD=np.abs(D_proj-D)/dx\n",
      "corrD[dx==0.]=0.\n",
      "# add a pressure gradient dependency\n",
      "vert_sproj*=psi_gradient\n",
      "lat_sproj*=psi_gradient\n",
      "#DEBUG:\n",
      "#corrD*=0.\n",
      "vert_sproj=((u-corrD)*mc.dt + (xi[:,0]*((6*D*mc.dt)**0.5)))\n",
      "#vert_sproj=((u-corrD)*mc.dt + (xi[:,0]*((6*D_mean*mc.dt)**0.5)))\n",
      "lat_sproj=(xi[:,1]/np.abs(xi[:,1]))*corrD*mc.dt + (xi[:,1]*((6*D_mean*mc.dt)**0.5))\n",
      "# saturation check\n",
      "# if this cases oversaturation at the target cell > balance incoming outgoing pressure\n"
     ],
     "language": "python",
     "metadata": {},
     "outputs": [],
     "prompt_number": 27
    },
    {
     "cell_type": "code",
     "collapsed": false,
     "input": [
      "plot(mc.D[:,5],'.')\n",
      "plot([mc.FC[5],mc.FC[5]],[1e-22,1e-6])\n",
      "yscale('log')"
     ],
     "language": "python",
     "metadata": {},
     "outputs": [
      {
       "metadata": {},
       "output_type": "display_data",
       "png": "[encoded data removed]",
       "text": [
        "<matplotlib.figure.Figure at 0x11b73c510>"
       ]
      }
     ],
     "prompt_number": 54
    },
    {
     "cell_type": "code",
     "collapsed": false,
     "input": [
      "plot(-mc.psi[:,1])\n",
      "plot([0,500],[0.33,0.33])\n",
      "yscale('log')"
     ],
     "language": "python",
     "metadata": {},
     "outputs": [
      {
       "metadata": {},
       "output_type": "display_data",
       "png": "[encoded data removed]",
       "text": [
        "<matplotlib.figure.Figure at 0x1185bd8d0>"
       ]
      }
     ],
     "prompt_number": 66
    },
    {
     "cell_type": "code",
     "collapsed": false,
     "input": [
      "dummy=np.zeros(len(mc.psi[0,:]))\n",
      "for i in range(len(dummy)):\n",
      "    dummy[i]=np.argmin(np.abs(-mc.psi[:,i]-(0.33*(100./9.80665))))\n",
      "dummy.astype(int)"
     ],
     "language": "python",
     "metadata": {},
     "outputs": [
      {
       "metadata": {},
       "output_type": "pyout",
       "prompt_number": 76,
       "text": [
        "array([ 50,  86, 176, 228, 268, 258, 292, 337, 319, 360, 360, 485, 485])"
       ]
      }
     ],
     "prompt_number": 76
    },
    {
     "cell_type": "code",
     "collapsed": false,
     "input": [
      "#0.33*10.1971621298\n",
      "#mc.mxbin.ravel()[particles_c.cell]/\n",
      "#(particles.LTEbin-particles_c.LTEbin)\n",
      "#(mc.mxbin-npart_c).astype(np.float) #open slots in target cell\n",
      "openslots_grid = (mc.mxbin-npart_c).astype(np.float) #open slots in target cell\n",
      "openslots_grid = np.fmin(openslots_grid/(mc.mxbin-mc.FC[mc.soilgrid-1]).astype(np.float),1.)\n",
      "openslots_grid.ravel()[particles_c.cell]"
     ],
     "language": "python",
     "metadata": {},
     "outputs": [
      {
       "metadata": {},
       "output_type": "pyout",
       "prompt_number": 96,
       "text": [
        "array([-0.47031963, -0.47031963, -0.47031963, ...,  0.36986301,\n",
        "        0.36986301,  0.36986301])"
       ]
      }
     ],
     "prompt_number": 96
    },
    {
     "cell_type": "code",
     "collapsed": false,
     "input": [
      "# new positions\n",
      "particles.lat.loc[S_id]+=lat_sproj\n",
      "particles.z.loc[S_id]-=vert_sproj\n",
      "[particles.lat,particles.z,nodrain]=boundcheck(particles.lat.values,particles.z.values,mc)\n",
      "particles.cell=cellgrid(particles.lat.values,particles.z.values,mc)"
     ],
     "language": "python",
     "metadata": {},
     "outputs": []
    },
    {
     "cell_type": "code",
     "collapsed": false,
     "input": [
      "timenow=0.\n",
      "tstop=10.\n",
      "\n",
      "leftover=0\n",
      "prec_part=0. #precipitation which is less than one particle to accumulate\n",
      "acc_mxinf=0. #matrix infiltration may become very small - this shall handle that some particles accumulate to infiltrate\n",
      "exfilt_p=0. #exfiltration from the macropores\n",
      "s_red=0.\n",
      "drained=pd.DataFrame(np.array([]))\n",
      "dt_max=6.\n",
      "prec_2D=False\n",
      "infilt_method=infiltmeth\n",
      "exfilt_method=exfiltmeth\n",
      "splitfac=10\n",
      "maccoat=macscale\n",
      "dynamic_pedo=False\n",
      "\n",
      "while timenow < tstop:\n",
      "    [thS,npart]=pdyn.gridupdate_thS(particles.lat,particles.z,mc)\n",
      "    if saveDT==True:\n",
      "        #define dt as Courant/Neumann criterion\n",
      "        dt_D=(mc.mgrid.vertfac.values[0])**2 / (6*np.amax(mc.D[particles.LTEbin.max(),:]))\n",
      "        dt_ku=-mc.mgrid.vertfac.values[0]/np.amax(mc.ku[particles.LTEbin.max(),:])\n",
      "        dt=np.amin([dt_D,dt_ku,dt_max,tstop-timenow])\n",
      "        dt=np.amax([dt,0.5])\n",
      "        mc.dt=dt\n",
      "    else:\n",
      "        if type(saveDT)==float:\n",
      "            #define dt as pre-defined\n",
      "            dt=np.amin([saveDT,tstop-timenow])\n",
      "            mc.dt=dt\n",
      "        elif type(saveDT)==int:\n",
      "            #define dt as modified  Corant/Neumann criterion\n",
      "            dt_D=(mc.mgrid.vertfac.values[0])**2 / (6*np.nanmax(mc.D[np.amax(thS),:]))*saveDT\n",
      "            dt_ku=-mc.mgrid.vertfac.values[0]/np.nanmax(mc.ku[np.amax(thS),:])*saveDT\n",
      "            dt=np.amin([dt_D,dt_ku,dt_max,tstop-timenow])\n",
      "            mc.dt=dt\n",
      "    #INFILTRATION (new version with binned)\n",
      "    [p_inf,prec_part,acc_mxinf]=cinf.pmx_infilt(timenow,precTS,prec_part,acc_mxinf,thS,mc,pdyn,mc.dt,leftover,prec_2D,particles.index[-1],infilt_method,infiltscale,npart) #drain all ponding // leftover <-> 0.\n",
      "    particles=pd.concat([particles,p_inf])\n",
      "    \n",
      "    #DEBUG:\n",
      "    #if len(particles)<100000:\n",
      "    #    particles.to_pickle('DEBUG_particlesX.pic')\n",
      "    #    assert False\n",
      "    #particles.to_pickle('DEBUG_particles.pic')\n",
      "    #particles=particles.groupby('cell').apply(pdyn.binupdate_pd,mc)\n",
      "    #particles.loc[particles.LTEbin>(len(mc.ku)-1),'LTEbin']=len(mc.ku)-1\n",
      "    #plot_mac(particles,'./results/Mtest'+str(np.round(timenow,2)))\n",
      "    #DIFFUSION\n",
      "    #[particles,thS,npart,phi_mx]=pdyn.part_diffusion_split(particles,npart,thS,mc,dt,False,splitfac,vertcalfac,latcalfac)\n",
      "    #[particles,thS,npart,phi_mx]=pdyn.part_diffusion_binned(particles,npart,thS,mc,dt)\n",
      "    \n",
      "    mc.splitfac=splitfac\n",
      "    [particles,thS,npart,phi_mx]=pdyn.part_diffusion_binned_pd(particles,npart,thS,mc)\n",
      "    #ADVECTION\n",
      "    #if not particles.loc[(particles.flag>0) & (particles.flag<len(mc.maccols)+1)].empty:\n",
      "    #    [particles,s_red,exfilt_p,mc]=pdyn.mac_advectionX(particles,mc,thS,mc.dt,clogswitch,maccoat,exfilt_method,film=film,dynamic_pedo=dynamic_pedo,npart=npart)\n",
      "    #INTERACT\n",
      "    #particles=pdyn.mx_mp_interact_nobulk(particles,npart,thS,mc,mc.dt)\n",
      "    #if run_from_ipython():\n",
      "        #display.clear_output()\n",
      "    print(''.join(['time: ',str(timenow),'s  |  particles: ',str(len(particles)),'  |  precip: ',str(len(p_inf)),'  |  advect: ',str(np.sum(((particles.flag>0) & (particles.flag<=len(mc.maccols))))),'  |  exfilt: ',str(int(exfilt_p)),'  |  mean v(adv): ',str(particles.loc[((particles.flag>0) & (particles.flag<=len(mc.maccols))),'advect'].mean())[:7]+str(particles.loc[((particles.flag>0) & (particles.flag<=len(mc.maccols))),'advect'].mean())[-4:],' m/s']))\n",
      "    #else:\n",
      "    #    print 'time: ',timenow,'s'\n",
      "    #CLEAN UP DATAFRAME\n",
      "    drained=drained.append(particles[particles.flag==len(mc.maccols)+1])\n",
      "    particles=particles.loc[particles.flag!=len(mc.maccols)+1]\n",
      "    #leftover+=np.intp((particles.z>=0.).sum())\n",
      "    leftover=particles.z[particles.z>=0.].count()\n",
      "    particles=particles.loc[particles.z<0.] #drop all leftover back to infilt routine\n",
      "    #particles.loc[particles.cell<0,'cell']=mc.mgrid.cells.values\n",
      "    #particles=particles[pondparts]\n",
      "    print('dropped '+str(leftover)+' leftover particles')\n",
      "    leftover=0\n",
      "    \n",
      "    plot(particles.lat,particles.z,'.')\n",
      "    axis('equal')\n",
      "    xlim(0.,mc.mxwidth)\n",
      "    ylim(-0.7,0.)\n",
      "\n",
      "    timenow=timenow+mc.dt"
     ],
     "language": "python",
     "metadata": {},
     "outputs": [
      {
       "output_type": "stream",
       "stream": "stdout",
       "text": [
        "time: 0.0s  |  particles: 1034775  |  precip: 0  |  advect: 0  |  exfilt: 0  |  mean v(adv): nannan m/s\n",
        "dropped 1342 leftover particles"
       ]
      },
      {
       "output_type": "stream",
       "stream": "stdout",
       "text": [
        "\n",
        "time: 0.5s  |  particles: 1033402  |  precip: 0  |  advect: 0  |  exfilt: 0  |  mean v(adv): nannan m/s"
       ]
      },
      {
       "output_type": "stream",
       "stream": "stdout",
       "text": [
        "\n",
        "dropped 19019 leftover particles"
       ]
      },
      {
       "output_type": "stream",
       "stream": "stdout",
       "text": [
        "\n",
        "time: 1.0s  |  particles: 1014364  |  precip: 0  |  advect: 0  |  exfilt: 0  |  mean v(adv): nannan m/s"
       ]
      },
      {
       "output_type": "stream",
       "stream": "stdout",
       "text": [
        "\n",
        "dropped 34720 leftover particles"
       ]
      },
      {
       "ename": "KeyboardInterrupt",
       "evalue": "",
       "output_type": "pyerr",
       "traceback": [
        "\u001b[0;31m---------------------------------------------------------------------------\u001b[0m\n\u001b[0;31mKeyboardInterrupt\u001b[0m                         Traceback (most recent call last)",
        "\u001b[0;32m<ipython-input-21-cdec385b5208>\u001b[0m in \u001b[0;36m<module>\u001b[0;34m()\u001b[0m\n\u001b[1;32m     53\u001b[0m \u001b[0;34m\u001b[0m\u001b[0m\n\u001b[1;32m     54\u001b[0m     \u001b[0mmc\u001b[0m\u001b[0;34m.\u001b[0m\u001b[0msplitfac\u001b[0m\u001b[0;34m=\u001b[0m\u001b[0msplitfac\u001b[0m\u001b[0;34m\u001b[0m\u001b[0m\n\u001b[0;32m---> 55\u001b[0;31m     \u001b[0;34m[\u001b[0m\u001b[0mparticles\u001b[0m\u001b[0;34m,\u001b[0m\u001b[0mthS\u001b[0m\u001b[0;34m,\u001b[0m\u001b[0mnpart\u001b[0m\u001b[0;34m,\u001b[0m\u001b[0mphi_mx\u001b[0m\u001b[0;34m]\u001b[0m\u001b[0;34m=\u001b[0m\u001b[0mpdyn\u001b[0m\u001b[0;34m.\u001b[0m\u001b[0mpart_diffusion_binned_pd\u001b[0m\u001b[0;34m(\u001b[0m\u001b[0mparticles\u001b[0m\u001b[0;34m,\u001b[0m\u001b[0mnpart\u001b[0m\u001b[0;34m,\u001b[0m\u001b[0mthS\u001b[0m\u001b[0;34m,\u001b[0m\u001b[0mmc\u001b[0m\u001b[0;34m)\u001b[0m\u001b[0;34m\u001b[0m\u001b[0m\n\u001b[0m\u001b[1;32m     56\u001b[0m     \u001b[0;31m#ADVECTION\u001b[0m\u001b[0;34m\u001b[0m\u001b[0;34m\u001b[0m\u001b[0m\n\u001b[1;32m     57\u001b[0m     \u001b[0;31m#if not particles.loc[(particles.flag>0) & (particles.flag<len(mc.maccols)+1)].empty:\u001b[0m\u001b[0;34m\u001b[0m\u001b[0;34m\u001b[0m\u001b[0m\n",
        "\u001b[0;32m/Users/cojack/Documents/phd/caos/caos_model/echoRD_clean/partdyn_d5.pyc\u001b[0m in \u001b[0;36mpart_diffusion_binned_pd\u001b[0;34m(particles, npart, thS, mc, panda)\u001b[0m\n\u001b[1;32m   1492\u001b[0m         \u001b[0;31m#if not all(S_id>=0):\u001b[0m\u001b[0;34m\u001b[0m\u001b[0;34m\u001b[0m\u001b[0m\n\u001b[1;32m   1493\u001b[0m         \u001b[0;31m#    print('PROBLEM at S_id')\u001b[0m\u001b[0;34m\u001b[0m\u001b[0;34m\u001b[0m\u001b[0m\n\u001b[0;32m-> 1494\u001b[0;31m         \u001b[0mpar_diff_sub_pd\u001b[0m\u001b[0;34m(\u001b[0m\u001b[0mS_id\u001b[0m\u001b[0;34m,\u001b[0m\u001b[0mparticles\u001b[0m\u001b[0;34m,\u001b[0m\u001b[0mthS\u001b[0m\u001b[0;34m,\u001b[0m\u001b[0mmc\u001b[0m\u001b[0;34m,\u001b[0m\u001b[0mnpart\u001b[0m\u001b[0;34m)\u001b[0m\u001b[0;34m\u001b[0m\u001b[0m\n\u001b[0m\u001b[1;32m   1495\u001b[0m \u001b[0;34m\u001b[0m\u001b[0m\n\u001b[1;32m   1496\u001b[0m     \u001b[0;31m#update states\u001b[0m\u001b[0;34m\u001b[0m\u001b[0;34m\u001b[0m\u001b[0m\n",
        "\u001b[0;32m/Users/cojack/Documents/phd/caos/caos_model/echoRD_clean/partdyn_d5.pyc\u001b[0m in \u001b[0;36mpar_diff_sub_pd\u001b[0;34m(S_id, particles, thS, mc, npart)\u001b[0m\n\u001b[1;32m   1573\u001b[0m       \u001b[0;31m#here the bins need to update now, since this is the reference to the diffusivity now\u001b[0m\u001b[0;34m\u001b[0m\u001b[0;34m\u001b[0m\u001b[0m\n\u001b[1;32m   1574\u001b[0m       \u001b[0mparticles_c\u001b[0m\u001b[0;34m.\u001b[0m\u001b[0mcell\u001b[0m\u001b[0;34m=\u001b[0m\u001b[0mcellgrid\u001b[0m\u001b[0;34m(\u001b[0m\u001b[0mparticles_c\u001b[0m\u001b[0;34m.\u001b[0m\u001b[0mlat\u001b[0m\u001b[0;34m.\u001b[0m\u001b[0mvalues\u001b[0m\u001b[0;34m,\u001b[0m\u001b[0mparticles_c\u001b[0m\u001b[0;34m.\u001b[0m\u001b[0mz\u001b[0m\u001b[0;34m.\u001b[0m\u001b[0mvalues\u001b[0m\u001b[0;34m,\u001b[0m\u001b[0mmc\u001b[0m\u001b[0;34m)\u001b[0m\u001b[0;34m\u001b[0m\u001b[0m\n\u001b[0;32m-> 1575\u001b[0;31m       \u001b[0mparticles_c\u001b[0m\u001b[0;34m=\u001b[0m\u001b[0mparticles_c\u001b[0m\u001b[0;34m.\u001b[0m\u001b[0mgroupby\u001b[0m\u001b[0;34m(\u001b[0m\u001b[0;34m'cell'\u001b[0m\u001b[0;34m)\u001b[0m\u001b[0;34m.\u001b[0m\u001b[0mapply\u001b[0m\u001b[0;34m(\u001b[0m\u001b[0mbinupdate_pd\u001b[0m\u001b[0;34m,\u001b[0m\u001b[0mmc\u001b[0m\u001b[0;34m)\u001b[0m\u001b[0;34m\u001b[0m\u001b[0m\n\u001b[0m\u001b[1;32m   1576\u001b[0m       \u001b[0;34m[\u001b[0m\u001b[0mthS_c\u001b[0m\u001b[0;34m,\u001b[0m\u001b[0mnpart_c\u001b[0m\u001b[0;34m]\u001b[0m \u001b[0;34m=\u001b[0m \u001b[0mgridupdate_thS\u001b[0m\u001b[0;34m(\u001b[0m\u001b[0mparticles_c\u001b[0m\u001b[0;34m.\u001b[0m\u001b[0mloc\u001b[0m\u001b[0;34m[\u001b[0m\u001b[0mparticles_c\u001b[0m\u001b[0;34m.\u001b[0m\u001b[0mflag\u001b[0m\u001b[0;34m==\u001b[0m\u001b[0;36m0\u001b[0m\u001b[0;34m,\u001b[0m\u001b[0;34m'lat'\u001b[0m\u001b[0;34m]\u001b[0m\u001b[0;34m.\u001b[0m\u001b[0mvalues\u001b[0m\u001b[0;34m,\u001b[0m\u001b[0mparticles_c\u001b[0m\u001b[0;34m.\u001b[0m\u001b[0mloc\u001b[0m\u001b[0;34m[\u001b[0m\u001b[0mparticles_c\u001b[0m\u001b[0;34m.\u001b[0m\u001b[0mflag\u001b[0m\u001b[0;34m==\u001b[0m\u001b[0;36m0\u001b[0m\u001b[0;34m,\u001b[0m\u001b[0;34m'z'\u001b[0m\u001b[0;34m]\u001b[0m\u001b[0;34m.\u001b[0m\u001b[0mvalues\u001b[0m\u001b[0;34m,\u001b[0m\u001b[0mmc\u001b[0m\u001b[0;34m)\u001b[0m\u001b[0;34m\u001b[0m\u001b[0m\n\u001b[1;32m   1577\u001b[0m       \u001b[0ms_cells\u001b[0m\u001b[0;34m=\u001b[0m\u001b[0mmc\u001b[0m\u001b[0;34m.\u001b[0m\u001b[0msoilgrid\u001b[0m\u001b[0;34m.\u001b[0m\u001b[0mravel\u001b[0m\u001b[0;34m(\u001b[0m\u001b[0;34m)\u001b[0m\u001b[0;34m[\u001b[0m\u001b[0mparticles_c\u001b[0m\u001b[0;34m.\u001b[0m\u001b[0mcell\u001b[0m\u001b[0;34m.\u001b[0m\u001b[0mloc\u001b[0m\u001b[0;34m[\u001b[0m\u001b[0mS_id\u001b[0m\u001b[0;34m]\u001b[0m\u001b[0;34m.\u001b[0m\u001b[0mastype\u001b[0m\u001b[0;34m(\u001b[0m\u001b[0mnp\u001b[0m\u001b[0;34m.\u001b[0m\u001b[0mintp\u001b[0m\u001b[0;34m)\u001b[0m\u001b[0;34m.\u001b[0m\u001b[0mvalues\u001b[0m\u001b[0;34m]\u001b[0m\u001b[0;34m-\u001b[0m\u001b[0;36m1\u001b[0m\u001b[0;34m\u001b[0m\u001b[0m\n",
        "\u001b[0;32m/usr/local/lib/python2.7/site-packages/pandas/core/groupby.pyc\u001b[0m in \u001b[0;36mapply\u001b[0;34m(self, func, *args, **kwargs)\u001b[0m\n\u001b[1;32m    713\u001b[0m         \u001b[0;31m# ignore SettingWithCopy here in case the user mutates\u001b[0m\u001b[0;34m\u001b[0m\u001b[0;34m\u001b[0m\u001b[0m\n\u001b[1;32m    714\u001b[0m         \u001b[0;32mwith\u001b[0m \u001b[0moption_context\u001b[0m\u001b[0;34m(\u001b[0m\u001b[0;34m'mode.chained_assignment'\u001b[0m\u001b[0;34m,\u001b[0m\u001b[0mNone\u001b[0m\u001b[0;34m)\u001b[0m\u001b[0;34m:\u001b[0m\u001b[0;34m\u001b[0m\u001b[0m\n\u001b[0;32m--> 715\u001b[0;31m             \u001b[0;32mreturn\u001b[0m \u001b[0mself\u001b[0m\u001b[0;34m.\u001b[0m\u001b[0m_python_apply_general\u001b[0m\u001b[0;34m(\u001b[0m\u001b[0mf\u001b[0m\u001b[0;34m)\u001b[0m\u001b[0;34m\u001b[0m\u001b[0m\n\u001b[0m\u001b[1;32m    716\u001b[0m \u001b[0;34m\u001b[0m\u001b[0m\n\u001b[1;32m    717\u001b[0m     \u001b[0;32mdef\u001b[0m \u001b[0m_python_apply_general\u001b[0m\u001b[0;34m(\u001b[0m\u001b[0mself\u001b[0m\u001b[0;34m,\u001b[0m \u001b[0mf\u001b[0m\u001b[0;34m)\u001b[0m\u001b[0;34m:\u001b[0m\u001b[0;34m\u001b[0m\u001b[0m\n",
        "\u001b[0;32m/usr/local/lib/python2.7/site-packages/pandas/core/groupby.pyc\u001b[0m in \u001b[0;36m_python_apply_general\u001b[0;34m(self, f)\u001b[0m\n\u001b[1;32m    717\u001b[0m     \u001b[0;32mdef\u001b[0m \u001b[0m_python_apply_general\u001b[0m\u001b[0;34m(\u001b[0m\u001b[0mself\u001b[0m\u001b[0;34m,\u001b[0m \u001b[0mf\u001b[0m\u001b[0;34m)\u001b[0m\u001b[0;34m:\u001b[0m\u001b[0;34m\u001b[0m\u001b[0m\n\u001b[1;32m    718\u001b[0m         keys, values, mutated = self.grouper.apply(f, self._selected_obj,\n\u001b[0;32m--> 719\u001b[0;31m                                                    self.axis)\n\u001b[0m\u001b[1;32m    720\u001b[0m \u001b[0;34m\u001b[0m\u001b[0m\n\u001b[1;32m    721\u001b[0m         return self._wrap_applied_output(keys, values,\n",
        "\u001b[0;32m/usr/local/lib/python2.7/site-packages/pandas/core/groupby.pyc\u001b[0m in \u001b[0;36mapply\u001b[0;34m(self, f, data, axis)\u001b[0m\n\u001b[1;32m   1404\u001b[0m             \u001b[0;31m# group might be modified\u001b[0m\u001b[0;34m\u001b[0m\u001b[0;34m\u001b[0m\u001b[0m\n\u001b[1;32m   1405\u001b[0m             \u001b[0mgroup_axes\u001b[0m \u001b[0;34m=\u001b[0m \u001b[0m_get_axes\u001b[0m\u001b[0;34m(\u001b[0m\u001b[0mgroup\u001b[0m\u001b[0;34m)\u001b[0m\u001b[0;34m\u001b[0m\u001b[0m\n\u001b[0;32m-> 1406\u001b[0;31m             \u001b[0mres\u001b[0m \u001b[0;34m=\u001b[0m \u001b[0mf\u001b[0m\u001b[0;34m(\u001b[0m\u001b[0mgroup\u001b[0m\u001b[0;34m)\u001b[0m\u001b[0;34m\u001b[0m\u001b[0m\n\u001b[0m\u001b[1;32m   1407\u001b[0m             \u001b[0;32mif\u001b[0m \u001b[0;32mnot\u001b[0m \u001b[0m_is_indexed_like\u001b[0m\u001b[0;34m(\u001b[0m\u001b[0mres\u001b[0m\u001b[0;34m,\u001b[0m \u001b[0mgroup_axes\u001b[0m\u001b[0;34m)\u001b[0m\u001b[0;34m:\u001b[0m\u001b[0;34m\u001b[0m\u001b[0m\n\u001b[1;32m   1408\u001b[0m                 \u001b[0mmutated\u001b[0m \u001b[0;34m=\u001b[0m \u001b[0mTrue\u001b[0m\u001b[0;34m\u001b[0m\u001b[0m\n",
        "\u001b[0;32m/usr/local/lib/python2.7/site-packages/pandas/core/groupby.pyc\u001b[0m in \u001b[0;36mf\u001b[0;34m(g)\u001b[0m\n\u001b[1;32m    709\u001b[0m         \u001b[0;34m@\u001b[0m\u001b[0mwraps\u001b[0m\u001b[0;34m(\u001b[0m\u001b[0mfunc\u001b[0m\u001b[0;34m)\u001b[0m\u001b[0;34m\u001b[0m\u001b[0m\n\u001b[1;32m    710\u001b[0m         \u001b[0;32mdef\u001b[0m \u001b[0mf\u001b[0m\u001b[0;34m(\u001b[0m\u001b[0mg\u001b[0m\u001b[0;34m)\u001b[0m\u001b[0;34m:\u001b[0m\u001b[0;34m\u001b[0m\u001b[0m\n\u001b[0;32m--> 711\u001b[0;31m             \u001b[0;32mreturn\u001b[0m \u001b[0mfunc\u001b[0m\u001b[0;34m(\u001b[0m\u001b[0mg\u001b[0m\u001b[0;34m,\u001b[0m \u001b[0;34m*\u001b[0m\u001b[0margs\u001b[0m\u001b[0;34m,\u001b[0m \u001b[0;34m**\u001b[0m\u001b[0mkwargs\u001b[0m\u001b[0;34m)\u001b[0m\u001b[0;34m\u001b[0m\u001b[0m\n\u001b[0m\u001b[1;32m    712\u001b[0m \u001b[0;34m\u001b[0m\u001b[0m\n\u001b[1;32m    713\u001b[0m         \u001b[0;31m# ignore SettingWithCopy here in case the user mutates\u001b[0m\u001b[0;34m\u001b[0m\u001b[0;34m\u001b[0m\u001b[0m\n",
        "\u001b[0;32m/Users/cojack/Documents/phd/caos/caos_model/echoRD_clean/partdyn_d5.pyc\u001b[0m in \u001b[0;36mbinupdate_pd\u001b[0;34m(particles, mc)\u001b[0m\n\u001b[1;32m    130\u001b[0m \u001b[0;34m\u001b[0m\u001b[0m\n\u001b[1;32m    131\u001b[0m     \u001b[0;31m#particles['LTEbin']=bins[order]\u001b[0m\u001b[0;34m\u001b[0m\u001b[0;34m\u001b[0m\u001b[0m\n\u001b[0;32m--> 132\u001b[0;31m     \u001b[0mparticles\u001b[0m\u001b[0;34m.\u001b[0m\u001b[0miloc\u001b[0m\u001b[0;34m[\u001b[0m\u001b[0morder\u001b[0m\u001b[0;34m,\u001b[0m\u001b[0;36m9\u001b[0m\u001b[0;34m]\u001b[0m\u001b[0;34m=\u001b[0m\u001b[0mbins\u001b[0m\u001b[0;34m\u001b[0m\u001b[0m\n\u001b[0m\u001b[1;32m    133\u001b[0m     \u001b[0;32mreturn\u001b[0m \u001b[0mparticles\u001b[0m\u001b[0;34m\u001b[0m\u001b[0m\n\u001b[1;32m    134\u001b[0m \u001b[0;34m\u001b[0m\u001b[0m\n",
        "\u001b[0;32m/usr/local/lib/python2.7/site-packages/pandas/core/indexing.pyc\u001b[0m in \u001b[0;36m__setitem__\u001b[0;34m(self, key, value)\u001b[0m\n\u001b[1;32m    115\u001b[0m     \u001b[0;32mdef\u001b[0m \u001b[0m__setitem__\u001b[0m\u001b[0;34m(\u001b[0m\u001b[0mself\u001b[0m\u001b[0;34m,\u001b[0m \u001b[0mkey\u001b[0m\u001b[0;34m,\u001b[0m \u001b[0mvalue\u001b[0m\u001b[0;34m)\u001b[0m\u001b[0;34m:\u001b[0m\u001b[0;34m\u001b[0m\u001b[0m\n\u001b[1;32m    116\u001b[0m         \u001b[0mindexer\u001b[0m \u001b[0;34m=\u001b[0m \u001b[0mself\u001b[0m\u001b[0;34m.\u001b[0m\u001b[0m_get_setitem_indexer\u001b[0m\u001b[0;34m(\u001b[0m\u001b[0mkey\u001b[0m\u001b[0;34m)\u001b[0m\u001b[0;34m\u001b[0m\u001b[0m\n\u001b[0;32m--> 117\u001b[0;31m         \u001b[0mself\u001b[0m\u001b[0;34m.\u001b[0m\u001b[0m_setitem_with_indexer\u001b[0m\u001b[0;34m(\u001b[0m\u001b[0mindexer\u001b[0m\u001b[0;34m,\u001b[0m \u001b[0mvalue\u001b[0m\u001b[0;34m)\u001b[0m\u001b[0;34m\u001b[0m\u001b[0m\n\u001b[0m\u001b[1;32m    118\u001b[0m \u001b[0;34m\u001b[0m\u001b[0m\n\u001b[1;32m    119\u001b[0m     \u001b[0;32mdef\u001b[0m \u001b[0m_has_valid_type\u001b[0m\u001b[0;34m(\u001b[0m\u001b[0mself\u001b[0m\u001b[0;34m,\u001b[0m \u001b[0mk\u001b[0m\u001b[0;34m,\u001b[0m \u001b[0maxis\u001b[0m\u001b[0;34m)\u001b[0m\u001b[0;34m:\u001b[0m\u001b[0;34m\u001b[0m\u001b[0m\n",
        "\u001b[0;32m/usr/local/lib/python2.7/site-packages/pandas/core/indexing.pyc\u001b[0m in \u001b[0;36m_setitem_with_indexer\u001b[0;34m(self, indexer, value)\u001b[0m\n\u001b[1;32m    480\u001b[0m                 \u001b[0;31m# we have an equal len list/ndarray\u001b[0m\u001b[0;34m\u001b[0m\u001b[0;34m\u001b[0m\u001b[0m\n\u001b[1;32m    481\u001b[0m                 \u001b[0;32melif\u001b[0m \u001b[0mcan_do_equal_len\u001b[0m\u001b[0;34m(\u001b[0m\u001b[0;34m)\u001b[0m\u001b[0;34m:\u001b[0m\u001b[0;34m\u001b[0m\u001b[0m\n\u001b[0;32m--> 482\u001b[0;31m                     \u001b[0msetter\u001b[0m\u001b[0;34m(\u001b[0m\u001b[0mlabels\u001b[0m\u001b[0;34m[\u001b[0m\u001b[0;36m0\u001b[0m\u001b[0;34m]\u001b[0m\u001b[0;34m,\u001b[0m \u001b[0mvalue\u001b[0m\u001b[0;34m)\u001b[0m\u001b[0;34m\u001b[0m\u001b[0m\n\u001b[0m\u001b[1;32m    483\u001b[0m \u001b[0;34m\u001b[0m\u001b[0m\n\u001b[1;32m    484\u001b[0m                 \u001b[0;31m# per label values\u001b[0m\u001b[0;34m\u001b[0m\u001b[0;34m\u001b[0m\u001b[0m\n",
        "\u001b[0;32m/usr/local/lib/python2.7/site-packages/pandas/core/indexing.pyc\u001b[0m in \u001b[0;36msetter\u001b[0;34m(item, v)\u001b[0m\n\u001b[1;32m    421\u001b[0m                     \u001b[0ms\u001b[0m \u001b[0;34m=\u001b[0m \u001b[0ms\u001b[0m\u001b[0;34m.\u001b[0m\u001b[0mcopy\u001b[0m\u001b[0;34m(\u001b[0m\u001b[0;34m)\u001b[0m\u001b[0;34m\u001b[0m\u001b[0m\n\u001b[1;32m    422\u001b[0m                     \u001b[0ms\u001b[0m\u001b[0;34m.\u001b[0m\u001b[0m_data\u001b[0m \u001b[0;34m=\u001b[0m \u001b[0ms\u001b[0m\u001b[0;34m.\u001b[0m\u001b[0m_data\u001b[0m\u001b[0;34m.\u001b[0m\u001b[0msetitem\u001b[0m\u001b[0;34m(\u001b[0m\u001b[0mindexer\u001b[0m\u001b[0;34m=\u001b[0m\u001b[0mpi\u001b[0m\u001b[0;34m,\u001b[0m \u001b[0mvalue\u001b[0m\u001b[0;34m=\u001b[0m\u001b[0mv\u001b[0m\u001b[0;34m)\u001b[0m\u001b[0;34m\u001b[0m\u001b[0m\n\u001b[0;32m--> 423\u001b[0;31m                     \u001b[0ms\u001b[0m\u001b[0;34m.\u001b[0m\u001b[0m_maybe_update_cacher\u001b[0m\u001b[0;34m(\u001b[0m\u001b[0mclear\u001b[0m\u001b[0;34m=\u001b[0m\u001b[0mTrue\u001b[0m\u001b[0;34m)\u001b[0m\u001b[0;34m\u001b[0m\u001b[0m\n\u001b[0m\u001b[1;32m    424\u001b[0m \u001b[0;34m\u001b[0m\u001b[0m\n\u001b[1;32m    425\u001b[0m                 \u001b[0;31m# reset the sliced object if unique\u001b[0m\u001b[0;34m\u001b[0m\u001b[0;34m\u001b[0m\u001b[0m\n",
        "\u001b[0;32m/usr/local/lib/python2.7/site-packages/pandas/core/generic.pyc\u001b[0m in \u001b[0;36m_maybe_update_cacher\u001b[0;34m(self, clear, verify_is_copy)\u001b[0m\n\u001b[1;32m   1162\u001b[0m         \"\"\"\n\u001b[1;32m   1163\u001b[0m \u001b[0;34m\u001b[0m\u001b[0m\n\u001b[0;32m-> 1164\u001b[0;31m         \u001b[0mcacher\u001b[0m \u001b[0;34m=\u001b[0m \u001b[0mgetattr\u001b[0m\u001b[0;34m(\u001b[0m\u001b[0mself\u001b[0m\u001b[0;34m,\u001b[0m \u001b[0;34m'_cacher'\u001b[0m\u001b[0;34m,\u001b[0m \u001b[0mNone\u001b[0m\u001b[0;34m)\u001b[0m\u001b[0;34m\u001b[0m\u001b[0m\n\u001b[0m\u001b[1;32m   1165\u001b[0m         \u001b[0;32mif\u001b[0m \u001b[0mcacher\u001b[0m \u001b[0;32mis\u001b[0m \u001b[0;32mnot\u001b[0m \u001b[0mNone\u001b[0m\u001b[0;34m:\u001b[0m\u001b[0;34m\u001b[0m\u001b[0m\n\u001b[1;32m   1166\u001b[0m             \u001b[0mref\u001b[0m \u001b[0;34m=\u001b[0m \u001b[0mcacher\u001b[0m\u001b[0;34m[\u001b[0m\u001b[0;36m1\u001b[0m\u001b[0;34m]\u001b[0m\u001b[0;34m(\u001b[0m\u001b[0;34m)\u001b[0m\u001b[0;34m\u001b[0m\u001b[0m\n",
        "\u001b[0;32m/usr/local/lib/python2.7/site-packages/pandas/core/generic.pyc\u001b[0m in \u001b[0;36m__getattr__\u001b[0;34m(self, name)\u001b[0m\n\u001b[1;32m   2343\u001b[0m         \u001b[0;32mreturn\u001b[0m \u001b[0mself\u001b[0m\u001b[0;34m\u001b[0m\u001b[0m\n\u001b[1;32m   2344\u001b[0m \u001b[0;34m\u001b[0m\u001b[0m\n\u001b[0;32m-> 2345\u001b[0;31m     \u001b[0;32mdef\u001b[0m \u001b[0m__getattr__\u001b[0m\u001b[0;34m(\u001b[0m\u001b[0mself\u001b[0m\u001b[0;34m,\u001b[0m \u001b[0mname\u001b[0m\u001b[0;34m)\u001b[0m\u001b[0;34m:\u001b[0m\u001b[0;34m\u001b[0m\u001b[0m\n\u001b[0m\u001b[1;32m   2346\u001b[0m         \"\"\"After regular attribute access, try looking up the name\n\u001b[1;32m   2347\u001b[0m         \u001b[0mThis\u001b[0m \u001b[0mallows\u001b[0m \u001b[0msimpler\u001b[0m \u001b[0maccess\u001b[0m \u001b[0mto\u001b[0m \u001b[0mcolumns\u001b[0m \u001b[0;32mfor\u001b[0m \u001b[0minteractive\u001b[0m \u001b[0muse\u001b[0m\u001b[0;34m.\u001b[0m\u001b[0;34m\u001b[0m\u001b[0m\n",
        "\u001b[0;31mKeyboardInterrupt\u001b[0m: "
       ]
      },
      {
       "output_type": "stream",
       "stream": "stdout",
       "text": [
        "\n"
       ]
      },
      {
       "output_type": "stream",
       "stream": "stderr",
       "text": [
        "/usr/local/lib/python2.7/site-packages/pandas/core/indexing.py:117: SettingWithCopyWarning: \n",
        "A value is trying to be set on a copy of a slice from a DataFrame\n",
        "\n",
        "See the caveats in the documentation: http://pandas.pydata.org/pandas-docs/stable/indexing.html#indexing-view-versus-copy\n",
        "  self._setitem_with_indexer(indexer, value)\n"
       ]
      },
      {
       "metadata": {},
       "output_type": "display_data",
       "png": "[encoded data removed]",
       "text": [
        "<matplotlib.figure.Figure at 0x110f2c310>"
       ]
      }
     ],
     "prompt_number": 21
    },
    {
     "cell_type": "code",
     "collapsed": false,
     "input": [
      "#[p_inf,prec_part,acc_mxinf]=cinf.pmx_infilt(timenow,precTS,prec_part,acc_mxinf,thS,mc,pdyn,mc.dt,leftover,prec_2D,particles.index[-1],infilt_method,infiltscale,npart)\n",
      "p_inf"
     ],
     "language": "python",
     "metadata": {},
     "outputs": []
    },
    {
     "cell_type": "code",
     "collapsed": false,
     "input": [
      "particles.z[particles.z<=0.].hist()"
     ],
     "language": "python",
     "metadata": {},
     "outputs": []
    },
    {
     "cell_type": "code",
     "collapsed": false,
     "input": [
      "from scipy.ndimage.filters import uniform_filter as unif\n",
      "subplot(121)\n",
      "imshow(unif((mc.mxbin-npart).astype(float),3)/mc.mxbin)\n",
      "subplot(122)\n",
      "imshow((mc.mxbin-npart).astype(float)/mc.mxbin)\n",
      "colorbar()"
     ],
     "language": "python",
     "metadata": {},
     "outputs": []
    },
    {
     "cell_type": "code",
     "collapsed": false,
     "input": [
      "particles2=pdyn.mx_mp_interact_nobulk(particles,npart,thS,mc,0.5)"
     ],
     "language": "python",
     "metadata": {},
     "outputs": []
    },
    {
     "cell_type": "code",
     "collapsed": false,
     "input": [
      "particles2[particles2.flag>0]"
     ],
     "language": "python",
     "metadata": {},
     "outputs": []
    },
    {
     "cell_type": "code",
     "collapsed": false,
     "input": [
      "maccol=7\n",
      "#ratio of latgrid to macropore radius to total gridspace\n",
      "mac_grid_ratio=np.mean(np.sqrt(mc.md_area)[:,0])/mc.mgrid.latfac.values\n",
      "#max particle in macropore reference estimated from column of soil diveded by capacity gives number of slots\n",
      "mxgridcell = int(np.ceil(mac_grid_ratio*(mc.md_macdepth[maccol]/-mc.mgrid.vertfac.values)*mc.part_sizefac/mc.maccap[maccol,0]))\n",
      "slotscale = mc.md_macdepth[maccol]/mxgridcell\n",
      "\n",
      "#maxfill\n",
      "dummy_i=np.ceil(mc.md_depth[1:]/slotscale).astype(int)\n",
      "dummy_i[1:]=dummy_i[1:]-dummy_i[:-1]\n",
      "maxfill=np.repeat(mc.maccap[maccol,:],dummy_i).astype(np.intp)[:mxgridcell]\n",
      "if any((maxfill==0) & (len(maxfill[maxfill>0])>0)):\n",
      "    maxfill[maxfill==0]=maxfill[maxfill>0][-1]\n",
      "    "
     ],
     "language": "python",
     "metadata": {},
     "outputs": []
    },
    {
     "cell_type": "code",
     "collapsed": false,
     "input": [
      "mac_grid_ratio*(mc.md_macdepth[maccol]/-mc.mgrid.vertfac.values)*mc.part_sizefac/mc.maccap[maccol,0]"
     ],
     "language": "python",
     "metadata": {},
     "outputs": []
    },
    {
     "cell_type": "code",
     "collapsed": false,
     "input": [
      "mc.md_macdepth#[maccol]"
     ],
     "language": "python",
     "metadata": {},
     "outputs": []
    },
    {
     "cell_type": "code",
     "collapsed": false,
     "input": [
      "import macropore_ini as mpo\n",
      "mpo.mac_plot(mc.macP,mc)"
     ],
     "language": "python",
     "metadata": {},
     "outputs": []
    },
    {
     "cell_type": "code",
     "collapsed": false,
     "input": [
      "import profile\n",
      "%prun -D diff_pd_prof.prof pdyn.part_diffusion_binned_pd(particles,npart,thS,mc)"
     ],
     "language": "python",
     "metadata": {},
     "outputs": []
    },
    {
     "cell_type": "code",
     "collapsed": false,
     "input": [
      "onez=np.append(np.arange(0.,mc.soildepth,mc.mgrid.vertfac[0])+mc.mgrid.vertfac[0]*0.3,mc.soildepth)\n",
      "z1=np.append(particles.loc[((particles.age>0.)),'z'].values,onez)\n",
      "advect_dummy=np.bincount(np.round(z1/mc.mgrid.vertfac[0]).astype(np.int))-1\n",
      "advect_dummy"
     ],
     "language": "python",
     "metadata": {},
     "outputs": []
    },
    {
     "cell_type": "code",
     "collapsed": false,
     "input": [
      "i+=1\n",
      "import profile\n",
      "%prun -D echord_prof.prof rE.CAOSpy_rundx1(i*output,(i+1)*output,mc,pdyn,cinf,precTS,particles,leftover,drained,6.,splitfac=1,prec_2D=False,maccoat=macscale,saveDT=saveDT,clogswitch=clogswitch,infilt_method=infiltmeth,exfilt_method=exfiltmeth,film=film,infiltscale=infiltscale)\n"
     ],
     "language": "python",
     "metadata": {},
     "outputs": []
    },
    {
     "cell_type": "code",
     "collapsed": false,
     "input": [
      "particles.cell.unique()"
     ],
     "language": "python",
     "metadata": {},
     "outputs": []
    },
    {
     "cell_type": "code",
     "collapsed": false,
     "input": [
      "pd.DataFrame(mc.md_contact)"
     ],
     "language": "python",
     "metadata": {},
     "outputs": []
    },
    {
     "cell_type": "code",
     "collapsed": false,
     "input": [
      "pd.DataFrame(mc.md_contact)\n",
      "mc.md_depth[np.sum(np.ceil(mc.md_contact),axis=1).astype(int)]"
     ],
     "language": "python",
     "metadata": {},
     "outputs": []
    },
    {
     "cell_type": "code",
     "collapsed": false,
     "input": [
      "np.sum(np.ceil(mc.md_contact),axis=1).astype(int)-1"
     ],
     "language": "python",
     "metadata": {},
     "outputs": []
    },
    {
     "cell_type": "code",
     "collapsed": false,
     "input": [
      "particles.loc[particles.flag>0].z.hist()"
     ],
     "language": "python",
     "metadata": {},
     "outputs": []
    },
    {
     "cell_type": "code",
     "collapsed": false,
     "input": [
      "particles.loc[particles.flag>0].lat.hist()"
     ],
     "language": "python",
     "metadata": {},
     "outputs": []
    },
    {
     "cell_type": "code",
     "collapsed": false,
     "input": [
      "plot(particles.loc[particles.flag>0,'lat'],particles.loc[particles.flag>0,'z'],'.')"
     ],
     "language": "python",
     "metadata": {},
     "outputs": []
    },
    {
     "cell_type": "code",
     "collapsed": false,
     "input": [
      "particles.loc[particles.flag>0,'flag'].hist()"
     ],
     "language": "python",
     "metadata": {},
     "outputs": []
    },
    {
     "cell_type": "code",
     "collapsed": false,
     "input": [
      "dt=1.5\n",
      "maccol=0\n",
      "film=True\n",
      "\n",
      "\n",
      "#old z\n",
      "old_z=particles.loc[particles.flag==(maccol+1),'z'].values\n",
      "particles_znew=particles.loc[particles.flag==(maccol+1),'z'].values\n",
      "#project advection step\n",
      "midx=particles.index[particles.flag==(maccol+1)]\n",
      "#id of matrix\n",
      "z_cells=np.intp(np.ceil(mc.md_macdepth[maccol]/-mc.mgrid.vertfac.values))\n",
      "mac_connect=pdyn.cellgrid(mc.md_pos[maccol].repeat(z_cells),(np.arange(z_cells)+0.5)*mc.mgrid.vertfac.values,mc)\n",
      "mac_connect=mac_connect[mac_connect<mc.mgrid.cells.values]\n",
      "z_cells=len(mac_connect)\n",
      "#state along macropore\n",
      "mac_psi=mc.psi100[sp.ndimage.filters.median_filter(thS,size=mc.smooth).ravel()[mac_connect],mc.soilgrid.ravel()[mac_connect]-1]\n",
      "#film slots\n",
      "#film thick estimate deprecated as it ranges at about one or less particle!\n",
      "#thick=filmthick(mac_psi*98.0638) #convert m water column into hPa\n",
      "#filmvolume=-mc.mgrid.vertfac.values*thick*mc.mac_contact[:len(thick),maccol]\n",
      "##slotspergrid=np.ceil(filmvolume/mc.particleV).astype(np.intp) #DEBUG: large particles will lead to an overestimation of the film\n",
      "##assume reference film thickness at FC\n",
      "#slotspergrid=np.fmax(1,np.round(filmthick(-330)*-mc.mgrid.vertfac.values*mc.mac_contact[:len(mac_connect),maccol]/mc.particleV).astype(np.int))\n",
      "#filmlayers=np.ceil(filmvolume/(slotspergrid*mc.particleV)).astype(np.intp)\n",
      "#macgrid=np.repeat(mac_connect,slotspergrid)\n",
      "#macdepth=np.cumsum(np.repeat(mc.mgrid.vertfac.values*np.ones(len(slotspergrid))/slotspergrid.astype(np.float),slotspergrid))\n",
      "#mxgridcell=len(macgrid)-1\n",
      "#ratio of latgrid to macropore radius to total gridspace\n",
      "mac_grid_ratio=np.mean(np.sqrt(mc.md_area)[:,0])/mc.mgrid.latfac.values\n",
      "#max particle in macropore reference estimated from column of soil diveded by capacity gives number of slots\n",
      "mxgridcell = int(np.ceil(mac_grid_ratio*(mc.md_macdepth[maccol]/-mc.mgrid.vertfac.values)*mc.part_sizefac/mc.maccap[maccol,0]))\n",
      "slotscale = mc.md_macdepth[maccol]/mxgridcell\n",
      "#id of macropore in soil grid\n",
      "mac_cell=np.repeat(mac_connect,np.diff(np.append(np.array(0.),np.round(np.cumsum(np.repeat(-mc.mgrid.vertfac.values/slotscale,z_cells))))).astype(int))[:mxgridcell+1]\n",
      "mxgridcell=len(mac_cell)-1\n",
      "macdepth=np.arange(mxgridcell)*-slotscale\n",
      "#DEBUG:\n",
      "#ADD HP FOR FILM. ONLY AT OUTER FILM LAYER THE PARTICLES ARE ALLOWED TO DRAIN.\n",
      "def macpos(z):\n",
      "    #get index position in macropore\n",
      "    # idm=np.zeros(len(z)).astype(np.intp)\n",
      "    # for i in np.arange(len(z)):\n",
      "    #     dummy=np.where(z[i]>macdepth)[0]\n",
      "    #     if len(dummy)>1:\n",
      "    #         idm[i]=int(dummy[0])\n",
      "    #     elif len(dummy)==0:\n",
      "    #         idm[i]=mxgridcell-1\n",
      "    #     else:\n",
      "    #         idm[i]=int(dummy)\n",
      "    # return idm\n",
      "    idm = np.ceil(-z/slotscale).astype(int)\n",
      "    idm = np.fmin(idm,mxgridcell)\n",
      "    return idm\n",
      "def macfil(p_mzid,mxgridcell):\n",
      "    #get macropore filling and position in film\n",
      "    p_mzid[p_mzid<0]=0 #if particles get erroneous positions due to redistribution it is set to zero\n",
      "    p_mzid_plus1=np.append(p_mzid,np.arange(mxgridcell))\n",
      "    try:\n",
      "        mfilling=np.bincount(p_mzid_plus1)-1\n",
      "    except ValueError:\n",
      "        print(p_mzid,mxgridcell)\n",
      "    filmloc=np.ones(len(p_mzid),dtype=int)\n",
      "    for idx in np.where(mfilling>0)[0]:\n",
      "        idy=np.where(p_mzid==idx)\n",
      "        filmloc[idy]=np.arange(mfilling[idx],dtype=int)+1\n",
      "    #Outputs: 1 filling state, 2 location in film/distance to porewall\n",
      "    return [mfilling, filmloc]\n",
      "#find macropore increment of particles\n",
      "def findincr(x):\n",
      "    #DEBUG\n",
      "    #idxx=0\n",
      "    idx=np.where(mc.md_depth>-x)[0]-1\n",
      "    if len(idx)>=1:\n",
      "        idxx=idx[0]\n",
      "    else:\n",
      "        idxx=len(mc.md_depth)-1\n",
      "    return idxx\n",
      "vfindincr = np.vectorize(findincr)\n",
      "#maxfill\n",
      "dummy_i=np.ceil(mc.md_depth[1:]/slotscale).astype(int)\n",
      "dummy_i[1:]=dummy_i[1:]-dummy_i[:-1]\n",
      "maxfill=np.repeat(mc.maccap[maccol,:],dummy_i).astype(np.intp)[:mxgridcell]\n",
      "maxfill[maxfill==0]=maxfill[maxfill>0][-1]\n",
      "#id in macropore\n",
      "particles_mzid=macpos(particles_znew)\n",
      "[mfilling, filmloc]=macfil(particles_mzid,mxgridcell)\n",
      "#debug: film location changes every time the function is called. this is maybe a bad idea once the flow is dependent on it \n",
      "#advective velocity\n",
      "ux=particles.loc[particles.flag==(maccol+1),'advect'].values\n",
      "#particles reset advective velocity when far from pore wall\n",
      "ux[filmloc>1]=pdyn.assignadvect(sum(filmloc>1),mc)\n",
      "ux_saveforlater=copy(ux)\n",
      "s_proj=ux_saveforlater*dt #project step\n",
      "z_proj=particles.loc[particles.flag==(maccol+1),'z'].values+s_proj #project new position"
     ],
     "language": "python",
     "metadata": {},
     "outputs": []
    },
    {
     "cell_type": "code",
     "collapsed": false,
     "input": [
      "plot(-particles.loc[particles.flag==(maccol+1),'advect'].values,'.')\n",
      "plot(-ux,'.')\n",
      "yscale('log')"
     ],
     "language": "python",
     "metadata": {},
     "outputs": []
    },
    {
     "cell_type": "code",
     "collapsed": false,
     "input": [
      "#check for excess particles\n",
      "if len(maxfill)!=len(mfilling):\n",
      "    mfilling=mfilling[:len(maxfill)]\n",
      "openslots=maxfill-mfilling\n",
      "if any(openslots<0):\n",
      "    excess=np.where(openslots<0)[0]\n",
      "    for iex in excess[::-1]:\n",
      "        iexx=np.where(particles_mzid==iex)[0][:-openslots[iex]]\n",
      "        #redistribute above:\n",
      "        while len(iexx)>0:\n",
      "            particles_mzid[iexx]-=np.fmin(particles_mzid[iexx],1)\n",
      "            z_proj[iexx]+=np.fmin(-z_proj[iexx],slotscale)\n",
      "            particles_znew[iexx]+=np.fmin(-particles_znew[iexx],slotscale)\n",
      "            #ux[iexx]=0.\n",
      "            if len(iexx)>openslots[iex-1]:\n",
      "                iexx=iexx[openslots[iex-1]:]\n",
      "                openslots[iex-1]=0\n",
      "                iex-=1\n",
      "                if iex<1:\n",
      "                        #ux[iexx]=0.\n",
      "                        z_proj[iexx]=0.\n",
      "                        particles_znew[iexx]=0.\n",
      "                        iexx=[]\n",
      "                        continue\n",
      "            else:\n",
      "                openslots[iex-1]-=len(iexx)\n",
      "                iexx=[]\n",
      "                continue\n",
      "[mfilling, filmloc]=macfil(particles_mzid,mxgridcell)\n",
      "if len(maxfill)!=len(mfilling):\n",
      "    mfilling=mfilling[:len(maxfill)]\n",
      "openslots=maxfill-mfilling"
     ],
     "language": "python",
     "metadata": {},
     "outputs": []
    },
    {
     "cell_type": "code",
     "collapsed": false,
     "input": [
      "bar(np.arange(100),mfilling[:100])"
     ],
     "language": "python",
     "metadata": {},
     "outputs": []
    },
    {
     "cell_type": "code",
     "collapsed": false,
     "input": [
      "#check lower boundary\n",
      "nodrain=(z_proj>=mc.soildepth)\n",
      "if any(-nodrain):\n",
      "    z_proj[-nodrain]=mc.soildepth\n",
      "#cell of projected step\n",
      "proj_mzid=macpos(z_proj)\n",
      "exfilt=particles_mzid<0 #create exfilt array with all False\n",
      "s_red_store=np.zeros(len(particles_mzid))\n",
      "sampleset=np.arange(len(particles_mzid),dtype=np.intp)\n",
      "samplenow=sampleset\n",
      "samplenow=samplenow[samplenow>=0]\n",
      "#update gridfill\n",
      "#particles_mzid=macpos(particles_znew)\n",
      "#[mfilling, filmloc]=macfil(particles_mzid,mxgridcell)\n",
      "#functions to check free slots in macropore along path\n",
      "#mfilling must be defined before as filling state of macropore, thus new def of functions here\n",
      "def contactcount(idx,idy):\n",
      "    #ocuppied slots on course\n",
      "    return np.count_nonzero(mfilling[idx:idy]==0)\n",
      "vcontactcount=np.vectorize(contactcount)\n",
      "def freecount(idx,idy):\n",
      "    #free slots on course\n",
      "    return sum(mfilling[idx:idy]==0)\n",
      "vfreecount=np.vectorize(freecount)\n",
      "def firstfree(idx,idy):\n",
      "    #find first free slot on course and count steps\n",
      "    f=np.where(mfilling[idx:idy]==0)[0]\n",
      "    if len(f)==0:\n",
      "        ff=0\n",
      "    else:\n",
      "        f=np.amax(f[0]-1,0)\n",
      "        ff=np.fmin(f,idy-idx)\n",
      "    return ff\n",
      "vfirstfree=np.vectorize(firstfree)\n",
      "def firstfreeX(idx,idy,mfilling):\n",
      "    #find first free slot on course and count steps\n",
      "    f=np.where(mfilling[idx:idy]==0)[0]\n",
      "    if len(f)==0:\n",
      "        if (idy-idx)>0:\n",
      "            ff=np.argmin(mfilling[idx:idy])+idx\n",
      "        else:\n",
      "            ff=0\n",
      "    else:\n",
      "        ff=np.amin([f[0],idy-idx])+idx\n",
      "    return ff\n",
      "#dragweight=vcontactcount(particles_mzid[samplenow],proj_mzid[samplenow]) #free slots on course\n",
      "#filmweight=vfreecount(particles_mzid[samplenow],proj_mzid[samplenow]) #occupied slots on course\n",
      "#passage=(proj_mzid[samplenow]-particles_mzid[samplenow]).astype(np.float64) #length of projected voyage\n",
      "#soil cell id of start and end\n",
      "idx=mac_cell[particles_mzid[samplenow]]\n",
      "idy=mac_cell[proj_mzid[samplenow]]\n",
      "s_red=np.zeros(len(samplenow))\n",
      "t_left=np.ones(len(samplenow))*dt\n",
      "#u_hag=s_red #advective velocity after hagen-poiseuille\n",
      "contactfac=np.ones(len(samplenow),dtype=np.float64)\n",
      "#project diffusion into matrix\n",
      "##CONTACT FACE##\n",
      "if film:\n",
      "    #assume film initialisation at pore wall \n",
      "    exfilt_retard=np.zeros(len(samplenow),dtype=int)\n",
      "    \n",
      "    #particles will proceed with v_adv to the end of the film\n",
      "    #therefore the reference will shift to the first free slot\n",
      "    ib=filmloc[samplenow]>1\n",
      "    if any(ib):\n",
      "        s_samp=np.where(ib)[0]\n",
      "        np.random.shuffle(s_samp)\n",
      "        for ibx in s_samp:\n",
      "            filmstep=firstfreeX(particles_mzid[samplenow[ibx]],proj_mzid[samplenow[ibx]],mfilling)\n",
      "            s_red[ibx]+=np.fmin(macdepth[filmstep]-old_z[samplenow[ibx]],0.)\n",
      "            t_left[ibx]-=np.fmax(s_red[ibx]/ux[samplenow[ibx]],0.)\n",
      "            filstep=np.fmin(filmstep,mxgridcell-particles_mzid[samplenow[ibx]]) #project step to end of film\n",
      "            particles_mzid[samplenow[ibx]]=np.fmin(particles_mzid[samplenow[ibx]]+filstep,mxgridcell)\n",
      "            proj_mzid[samplenow[ibx]]=np.fmin(proj_mzid[samplenow[ibx]]+filstep,mxgridcell)\n",
      "            [mfilling, filmloc]=macfil(particles_mzid,mxgridcell)\n",
      "        idx=mac_cell[particles_mzid[samplenow]] #update reference to soil\n",
      "        idy=mac_cell[proj_mzid[samplenow]]\n",
      "        \n",
      "    filmweight=vcontactcount(particles_mzid[samplenow],proj_mzid[samplenow]).astype(np.float64) #free slots on course\n",
      "    passage=(proj_mzid[samplenow]-particles_mzid[samplenow]).astype(np.float64) #length of projected voyage\n",
      "    \n",
      "    ia=filmweight>0.\n",
      "    ic=passage>0.\n",
      "    if any(ia & ic):\n",
      "        contactfac[ia & ic]=filmweight[ia & ic]/passage[ia & ic]\n",
      "    #particles at position 1 in film can be retarded for exfiltration to simulate a film\n",
      "    exfilt_retard[filmloc[samplenow]==1]=1\n",
      "    \n",
      "else:\n",
      "    #assume only film particles to interact with the matrix\n",
      "    dragweight=vcontactcount(particles_mzid[samplenow],proj_mzid[samplenow]) #free slots on course\n",
      "    passage=(proj_mzid[samplenow]-particles_mzid[samplenow]).astype(np.float64) #length of projected voyage\n",
      "    ia=dragweight>0.\n",
      "    ib=passage>0.\n",
      "    if any(ia & ib):\n",
      "        contactfac[ia & ib]=1.-(dragweight[ia & ib]/passage[ia & ib])\n",
      "    \n"
     ],
     "language": "python",
     "metadata": {},
     "outputs": [
      {
       "ename": "NameError",
       "evalue": "name 'z_proj' is not defined",
       "output_type": "pyerr",
       "traceback": [
        "\u001b[0;31m---------------------------------------------------------------------------\u001b[0m\n\u001b[0;31mNameError\u001b[0m                                 Traceback (most recent call last)",
        "\u001b[0;32m<ipython-input-3-ed60bda47c46>\u001b[0m in \u001b[0;36m<module>\u001b[0;34m()\u001b[0m\n\u001b[1;32m      1\u001b[0m \u001b[0;31m#check lower boundary\u001b[0m\u001b[0;34m\u001b[0m\u001b[0;34m\u001b[0m\u001b[0m\n\u001b[0;32m----> 2\u001b[0;31m \u001b[0mnodrain\u001b[0m\u001b[0;34m=\u001b[0m\u001b[0;34m(\u001b[0m\u001b[0mz_proj\u001b[0m\u001b[0;34m>=\u001b[0m\u001b[0mmc\u001b[0m\u001b[0;34m.\u001b[0m\u001b[0msoildepth\u001b[0m\u001b[0;34m)\u001b[0m\u001b[0;34m\u001b[0m\u001b[0m\n\u001b[0m\u001b[1;32m      3\u001b[0m \u001b[0;32mif\u001b[0m \u001b[0many\u001b[0m\u001b[0;34m(\u001b[0m\u001b[0;34m-\u001b[0m\u001b[0mnodrain\u001b[0m\u001b[0;34m)\u001b[0m\u001b[0;34m:\u001b[0m\u001b[0;34m\u001b[0m\u001b[0m\n\u001b[1;32m      4\u001b[0m     \u001b[0mz_proj\u001b[0m\u001b[0;34m[\u001b[0m\u001b[0;34m-\u001b[0m\u001b[0mnodrain\u001b[0m\u001b[0;34m]\u001b[0m\u001b[0;34m=\u001b[0m\u001b[0mmc\u001b[0m\u001b[0;34m.\u001b[0m\u001b[0msoildepth\u001b[0m\u001b[0;34m\u001b[0m\u001b[0m\n\u001b[1;32m      5\u001b[0m \u001b[0;31m#cell of projected step\u001b[0m\u001b[0;34m\u001b[0m\u001b[0;34m\u001b[0m\u001b[0m\n",
        "\u001b[0;31mNameError\u001b[0m: name 'z_proj' is not defined"
       ]
      }
     ],
     "prompt_number": 3
    },
    {
     "cell_type": "code",
     "collapsed": false,
     "input": [
      "dynamic_pedo=False\n",
      "\n",
      "#split method >FC gets also RWdiff...\n",
      "#experienced psi\n",
      "xsample=mc.soilgrid.ravel()[idx]-1\n",
      "ysample=mc.soilgrid.ravel()[idy]-1\n",
      "if dynamic_pedo:\n",
      "    #WARNING: THIS STRECHES ACROSS MULTIPLE CELLS. REVISE AS BELOW. \n",
      "    psi1=vG.psi_thst(thS.ravel()[idx]/100.,mc.soilmatrix.alpha[xsample].values,mc.soilmatrix.n[xsample].values)\n",
      "    psi2=vG.psi_thst(thS.ravel()[idy]/100.,mc.soilmatrix.alpha[ysample].values,mc.soilmatrix.n[ysample].values)\n",
      "    exp_psi=-np.sqrt(psi1*psi2)\n",
      "    if type(ksnoise)==float:\n",
      "        dD1=vG.dcst_thst(thS.ravel()[idx]/100., mc.soilmatrix.ts[xsample].values, mc.soilmatrix.tr[xsample].values,ksnoise*mc.soilmatrix.ks[xsample].values, mc.soilmatrix.alpha[xsample].values, mc.soilmatrix.n[xsample].values)\n",
      "        dD2=vG.dcst_thst(thS.ravel()[idy]/100., mc.soilmatrix.ts[ysample].values, mc.soilmatrix.tr[ysample].values,ksnoise*mc.soilmatrix.ks[ysample].values, mc.soilmatrix.alpha[ysample].values, mc.soilmatrix.n[ysample].values)\n",
      "    else:\n",
      "        dD1=vG.dcst_thst(thS.ravel()[idx]/100., mc.soilmatrix.ts[xsample].values, mc.soilmatrix.tr[xsample].values,ksnoise[idx]*mc.soilmatrix.ks[xsample].values, mc.soilmatrix.alpha[xsample].values, mc.soilmatrix.n[xsample].values)\n",
      "        dD2=vG.dcst_thst(thS.ravel()[idy]/100., mc.soilmatrix.ts[ysample].values, mc.soilmatrix.tr[ysample].values,ksnoise[idy]*mc.soilmatrix.ks[ysample].values, mc.soilmatrix.alpha[ysample].values, mc.soilmatrix.n[ysample].values)\n",
      "    dpsi_dtheta=np.sqrt(dD1*dD2)\n",
      "    if type(ksnoise)==float:\n",
      "        k1=vG.ku_psi(psi1,ksnoise*mc.soilmatrix.ks[xsample],mc.soilmatrix.alpha[xsample],mc.soilmatrix.n[xsample])\n",
      "        k2=vG.ku_psi(psi2,ksnoise*mc.soilmatrix.ks[ysample],mc.soilmatrix.alpha[ysample],mc.soilmatrix.n[ysample])\n",
      "    else:\n",
      "        k1=vG.ku_psi(psi1,ksnoise[idx]*mc.soilmatrix.ks[xsample],mc.soilmatrix.alpha[xsample],mc.soilmatrix.n[xsample])\n",
      "        k2=vG.ku_psi(psi2,ksnoise[idy]*mc.soilmatrix.ks[ysample],mc.soilmatrix.alpha[ysample],mc.soilmatrix.n[ysample])\n",
      "    k=np.sqrt(k1.values*k2.values)\n",
      "else:\n",
      "    gridspan=np.floor(s_proj/mc.mgrid.vertfac.values).astype(np.intp) #number of grids the step spanns\n",
      "    mac_u=np.unique(mac_cell)\n",
      "    #gridspan=np.fmax(0,np.fmin(len(mac_u)-(1+idx),gridspan))\n",
      "    ssample=mc.soilgrid.ravel()[mac_u]-1\n",
      "    sxsample=mc.soilgrid.ravel()[mac_connect]-1\n",
      "    psi_mac=mc.psi100[thS.ravel()[mac_u],ssample]\n",
      "    dpsi_dtheta_mac=mc.dpsidtheta100[thS.ravel()[mac_u],ssample]\n",
      "    k_mac=mc.ku100[thS.ravel()[mac_u],ssample]\n",
      "    D_mac=mc.D100[thS.ravel()[mac_u],ssample]\n",
      "    dtheta_mac=mc.theta100[100-thS.ravel()[mac_u],ssample]\n",
      "    \n",
      "    idx0=np.ceil(old_z/mc.mgrid.vertfac.values).astype(int)\n",
      "    idx1=np.fmax(1,np.fmin(gridspan,np.intp(mc.mgrid.vertgrid.values/10))) #maximum 1/10 of cells allowed to check for states along passage\n",
      "    idx0[idx0>=(len(psi_mac)-1)]=len(psi_mac)-2\n",
      "    idx1=np.fmin(idx1,len(psi_mac)-1-idx0)\n",
      "    stretch=np.transpose([idx0,idx1]) \n",
      "    exp_psi=np.zeros(len(idx))\n",
      "    dpsi_dtheta=np.zeros(len(idx))\n",
      "    k=np.zeros(len(idx))\n",
      "    D=np.zeros(len(idx))\n",
      "    Qx=np.zeros(len(idx))\n",
      "    thetax=np.zeros(len(idx))\n",
      "    thick=np.zeros(len(idx))\n",
      "    for i in np.arange(len(idx)):\n",
      "        #reversely weighted geometric mean or mean if more appropriate\n",
      "        xpsi=psi_mac[stretch[i][0]:(stretch[i][0]+stretch[i][1])]\n",
      "        xtheta=dtheta_mac[stretch[i][0]:(stretch[i][0]+stretch[i][1])]\n",
      "        xweights=np.arange(1+len(xpsi))[:0:-1]\n",
      "        wpsi=np.repeat(xpsi,xweights)\n",
      "        exp_psi[i]=-(np.abs(np.prod(wpsi))**(1./np.fmax(1,len(wpsi))))\n",
      "        xdpsi=dpsi_dtheta_mac[stretch[i][0]:(stretch[i][0]+stretch[i][1])]\n",
      "        wdpsi=np.repeat(xdpsi,xweights)\n",
      "        thick[i]=pdyn.filmthick(np.mean(wpsi)*98.0638) #convert m water column into hPa and calculate film thickness\n",
      "        dpsi_dtheta[i]=np.prod(wdpsi)**(1./np.fmax(1,len(wdpsi)))\n",
      "        xk=k_mac[stretch[i][0]:(stretch[i][0]+stretch[i][1])]\n",
      "        wk=np.repeat(xk,xweights)\n",
      "        wt=np.repeat(xtheta,xweights)\n",
      "        k[i]=np.mean(wk)\n",
      "        xD=D_mac[stretch[i][0]:(stretch[i][0]+stretch[i][1])]\n",
      "        wD=np.repeat(xD,xweights)\n",
      "        D[i]=np.mean(wD)\n",
      "        thetax[i]=np.mean(wt)\n",
      "        Qx[i]=np.mean(wD)*(np.mean(wt)/(0.5*mc.particleD[0]))+np.mean(wk)\n",
      "        #soil=sxsample[np.amin([stretch[i][0],len(sxsample)-1])]\n",
      "        #if np.mean(wpsi)>mc.psi[mc.FC[soil],soil]:\n",
      "        #    Qx[i]=mc.D[mc.FC[soil],soil]*(mc.theta[mc.FC[soil],soil]/(0.5*mc.particleD[0]))+mc.ku[mc.FC[soil],soil] #value at field capacity\n",
      "#darcy flux into matrix\n",
      "#Q=k*-exp_psi/np.diff(macdepth)[idx]\n",
      "#Q=k*-exp_psi/(0.5*mc.particleD)<\n",
      "#Q=k*-exp_psi/mc.particleD\n",
      "Q=Qx"
     ],
     "language": "python",
     "metadata": {},
     "outputs": []
    },
    {
     "cell_type": "code",
     "collapsed": false,
     "input": [
      "Q"
     ],
     "language": "python",
     "metadata": {},
     "outputs": [
      {
       "ename": "NameError",
       "evalue": "name 'Q' is not defined",
       "output_type": "pyerr",
       "traceback": [
        "\u001b[0;31m---------------------------------------------------------------------------\u001b[0m\n\u001b[0;31mNameError\u001b[0m                                 Traceback (most recent call last)",
        "\u001b[0;32m<ipython-input-4-132bf2be3e39>\u001b[0m in \u001b[0;36m<module>\u001b[0;34m()\u001b[0m\n\u001b[0;32m----> 1\u001b[0;31m \u001b[0mQ\u001b[0m\u001b[0;34m\u001b[0m\u001b[0m\n\u001b[0m",
        "\u001b[0;31mNameError\u001b[0m: name 'Q' is not defined"
       ]
      }
     ],
     "prompt_number": 4
    },
    {
     "cell_type": "code",
     "collapsed": false,
     "input": [],
     "language": "python",
     "metadata": {},
     "outputs": [],
     "prompt_number": 4
    },
    {
     "cell_type": "code",
     "collapsed": false,
     "input": [
      "import scipy.constants as const\n",
      "pm=mc.particlemass/1000. #particle mass conversion into kg\n",
      "#Q=k*-exp_psi/mc.mgrid.latfac.values\n",
      "if film:\n",
      "    #Q[exfilt_retard==1]*=retardfac\n",
      "    Q[exfilt_retard==0]/=filmloc[exfilt_retard==0]**2\n",
      "q_ex=Q*contactfac\n",
      "#exchange impulse\n",
      "p_ex=mc.particleV*(dpsi_dtheta*const.g*1000.)/q_ex\n",
      "#theoretic translatory energy and\n",
      "#structural friction impulse\n",
      "R2=(np.mean(mc.md_area,axis=1)/np.pi)[maccol] #r2 of macropore (mean over depth)\n",
      "u_hag = 1000.*const.g*R2 / (8*0.001308) #mean Hagen Poiseuille laminar flow estimate\n",
      "#u_hag *= 2. #max HP flow at center\n",
      "u_hag *= 2.*filmloc/np.max([2.,np.max(filmloc)]) #alternative with given filmloc\n",
      "E_tkin = pm*0.5*u_hag**2\n",
      "p_dr = E_tkin/-ux[samplenow] #drag impulse based on current apparent particle velocity\n",
      "#p_ex[exfilt_retard==0] = 0. #no drag at higher layers\n",
      "p_dr /= filmloc**2 #quadratic reduction of drag in film\n"
     ],
     "language": "python",
     "metadata": {},
     "outputs": [
      {
       "ename": "NameError",
       "evalue": "name 'mc' is not defined",
       "output_type": "pyerr",
       "traceback": [
        "\u001b[0;31m---------------------------------------------------------------------------\u001b[0m\n\u001b[0;31mNameError\u001b[0m                                 Traceback (most recent call last)",
        "\u001b[0;32m<ipython-input-5-1f88cb57456e>\u001b[0m in \u001b[0;36m<module>\u001b[0;34m()\u001b[0m\n\u001b[1;32m      1\u001b[0m \u001b[0;32mimport\u001b[0m \u001b[0mscipy\u001b[0m\u001b[0;34m.\u001b[0m\u001b[0mconstants\u001b[0m \u001b[0;32mas\u001b[0m \u001b[0mconst\u001b[0m\u001b[0;34m\u001b[0m\u001b[0m\n\u001b[0;32m----> 2\u001b[0;31m \u001b[0mpm\u001b[0m\u001b[0;34m=\u001b[0m\u001b[0mmc\u001b[0m\u001b[0;34m.\u001b[0m\u001b[0mparticlemass\u001b[0m\u001b[0;34m/\u001b[0m\u001b[0;36m1000.\u001b[0m \u001b[0;31m#particle mass conversion into kg\u001b[0m\u001b[0;34m\u001b[0m\u001b[0m\n\u001b[0m\u001b[1;32m      3\u001b[0m \u001b[0;31m#Q=k*-exp_psi/mc.mgrid.latfac.values\u001b[0m\u001b[0;34m\u001b[0m\u001b[0;34m\u001b[0m\u001b[0m\n\u001b[1;32m      4\u001b[0m \u001b[0;32mif\u001b[0m \u001b[0mfilm\u001b[0m\u001b[0;34m:\u001b[0m\u001b[0;34m\u001b[0m\u001b[0m\n\u001b[1;32m      5\u001b[0m     \u001b[0;31m#Q[exfilt_retard==1]*=retardfac\u001b[0m\u001b[0;34m\u001b[0m\u001b[0;34m\u001b[0m\u001b[0m\n",
        "\u001b[0;31mNameError\u001b[0m: name 'mc' is not defined"
       ]
      }
     ],
     "prompt_number": 5
    },
    {
     "cell_type": "code",
     "collapsed": false,
     "input": [
      "plot(-particles.loc[particles.flag==(maccol+1),'advect'].values,'.')\n",
      "plot(-ux_saveforlater,'.')\n",
      "plot(-ux,'.')\n",
      "yscale('log')"
     ],
     "language": "python",
     "metadata": {},
     "outputs": [
      {
       "ename": "NameError",
       "evalue": "name 'particles' is not defined",
       "output_type": "pyerr",
       "traceback": [
        "\u001b[0;31m---------------------------------------------------------------------------\u001b[0m\n\u001b[0;31mNameError\u001b[0m                                 Traceback (most recent call last)",
        "\u001b[0;32m<ipython-input-6-f4695685b497>\u001b[0m in \u001b[0;36m<module>\u001b[0;34m()\u001b[0m\n\u001b[0;32m----> 1\u001b[0;31m \u001b[0mplot\u001b[0m\u001b[0;34m(\u001b[0m\u001b[0;34m-\u001b[0m\u001b[0mparticles\u001b[0m\u001b[0;34m.\u001b[0m\u001b[0mloc\u001b[0m\u001b[0;34m[\u001b[0m\u001b[0mparticles\u001b[0m\u001b[0;34m.\u001b[0m\u001b[0mflag\u001b[0m\u001b[0;34m==\u001b[0m\u001b[0;34m(\u001b[0m\u001b[0mmaccol\u001b[0m\u001b[0;34m+\u001b[0m\u001b[0;36m1\u001b[0m\u001b[0;34m)\u001b[0m\u001b[0;34m,\u001b[0m\u001b[0;34m'advect'\u001b[0m\u001b[0;34m]\u001b[0m\u001b[0;34m.\u001b[0m\u001b[0mvalues\u001b[0m\u001b[0;34m,\u001b[0m\u001b[0;34m'.'\u001b[0m\u001b[0;34m)\u001b[0m\u001b[0;34m\u001b[0m\u001b[0m\n\u001b[0m\u001b[1;32m      2\u001b[0m \u001b[0mplot\u001b[0m\u001b[0;34m(\u001b[0m\u001b[0;34m-\u001b[0m\u001b[0mux_saveforlater\u001b[0m\u001b[0;34m,\u001b[0m\u001b[0;34m'.'\u001b[0m\u001b[0;34m)\u001b[0m\u001b[0;34m\u001b[0m\u001b[0m\n\u001b[1;32m      3\u001b[0m \u001b[0mplot\u001b[0m\u001b[0;34m(\u001b[0m\u001b[0;34m-\u001b[0m\u001b[0mux\u001b[0m\u001b[0;34m,\u001b[0m\u001b[0;34m'.'\u001b[0m\u001b[0;34m)\u001b[0m\u001b[0;34m\u001b[0m\u001b[0m\n\u001b[1;32m      4\u001b[0m \u001b[0myscale\u001b[0m\u001b[0;34m(\u001b[0m\u001b[0;34m'log'\u001b[0m\u001b[0;34m)\u001b[0m\u001b[0;34m\u001b[0m\u001b[0m\n",
        "\u001b[0;31mNameError\u001b[0m: name 'particles' is not defined"
       ]
      }
     ],
     "prompt_number": 6
    },
    {
     "cell_type": "code",
     "collapsed": false,
     "input": [
      "plot(p_dr)\n",
      "plot(E_tkin/-ux[samplenow])\n",
      "yscale('log')"
     ],
     "language": "python",
     "metadata": {},
     "outputs": [
      {
       "ename": "NameError",
       "evalue": "name 'p_dr' is not defined",
       "output_type": "pyerr",
       "traceback": [
        "\u001b[0;31m---------------------------------------------------------------------------\u001b[0m\n\u001b[0;31mNameError\u001b[0m                                 Traceback (most recent call last)",
        "\u001b[0;32m<ipython-input-7-752c37c88040>\u001b[0m in \u001b[0;36m<module>\u001b[0;34m()\u001b[0m\n\u001b[0;32m----> 1\u001b[0;31m \u001b[0mplot\u001b[0m\u001b[0;34m(\u001b[0m\u001b[0mp_dr\u001b[0m\u001b[0;34m)\u001b[0m\u001b[0;34m\u001b[0m\u001b[0m\n\u001b[0m\u001b[1;32m      2\u001b[0m \u001b[0mplot\u001b[0m\u001b[0;34m(\u001b[0m\u001b[0mE_tkin\u001b[0m\u001b[0;34m/\u001b[0m\u001b[0;34m-\u001b[0m\u001b[0mux\u001b[0m\u001b[0;34m[\u001b[0m\u001b[0msamplenow\u001b[0m\u001b[0;34m]\u001b[0m\u001b[0;34m)\u001b[0m\u001b[0;34m\u001b[0m\u001b[0m\n\u001b[1;32m      3\u001b[0m \u001b[0myscale\u001b[0m\u001b[0;34m(\u001b[0m\u001b[0;34m'log'\u001b[0m\u001b[0;34m)\u001b[0m\u001b[0;34m\u001b[0m\u001b[0m\n",
        "\u001b[0;31mNameError\u001b[0m: name 'p_dr' is not defined"
       ]
      }
     ],
     "prompt_number": 7
    },
    {
     "cell_type": "code",
     "collapsed": false,
     "input": [
      "ux[samplenow]=-E_tkin/((p_ex+p_dr)) #update particle velocity as reduced flow\n",
      "s_red+=ux[samplenow]*t_left #add advective step outside film\n",
      "dummy_ux=ux[samplenow]\n",
      "##Exfiltration##\n",
      "exfilt_mem=particles.loc[particles.flag==(maccol+1),'exfilt'].values.astype('float64')\n",
      "exfilt_mem+=np.abs(q_ex*t_left)\n",
      "#exfilt[samplenow]=(exfilt_mem>mc.particleD[0]*0.5)\n",
      "#exfilt[samplenow]=(exfilt_mem>mc.particleD[0]*0.01) #assume much less entry. DEBUG!\n",
      "exfilt[samplenow]=(thick-exfilt_mem)<=0. #any exfilt length exceeding the film layer depth"
     ],
     "language": "python",
     "metadata": {},
     "outputs": [
      {
       "ename": "NameError",
       "evalue": "name 'E_tkin' is not defined",
       "output_type": "pyerr",
       "traceback": [
        "\u001b[0;31m---------------------------------------------------------------------------\u001b[0m\n\u001b[0;31mNameError\u001b[0m                                 Traceback (most recent call last)",
        "\u001b[0;32m<ipython-input-8-6d8bf3c5f5d6>\u001b[0m in \u001b[0;36m<module>\u001b[0;34m()\u001b[0m\n\u001b[0;32m----> 1\u001b[0;31m \u001b[0mux\u001b[0m\u001b[0;34m[\u001b[0m\u001b[0msamplenow\u001b[0m\u001b[0;34m]\u001b[0m\u001b[0;34m=\u001b[0m\u001b[0;34m-\u001b[0m\u001b[0mE_tkin\u001b[0m\u001b[0;34m/\u001b[0m\u001b[0;34m(\u001b[0m\u001b[0;34m(\u001b[0m\u001b[0mp_ex\u001b[0m\u001b[0;34m+\u001b[0m\u001b[0mp_dr\u001b[0m\u001b[0;34m)\u001b[0m\u001b[0;34m)\u001b[0m \u001b[0;31m#update particle velocity as reduced flow\u001b[0m\u001b[0;34m\u001b[0m\u001b[0m\n\u001b[0m\u001b[1;32m      2\u001b[0m \u001b[0ms_red\u001b[0m\u001b[0;34m+=\u001b[0m\u001b[0mux\u001b[0m\u001b[0;34m[\u001b[0m\u001b[0msamplenow\u001b[0m\u001b[0;34m]\u001b[0m\u001b[0;34m*\u001b[0m\u001b[0mt_left\u001b[0m \u001b[0;31m#add advective step outside film\u001b[0m\u001b[0;34m\u001b[0m\u001b[0m\n\u001b[1;32m      3\u001b[0m \u001b[0mdummy_ux\u001b[0m\u001b[0;34m=\u001b[0m\u001b[0mux\u001b[0m\u001b[0;34m[\u001b[0m\u001b[0msamplenow\u001b[0m\u001b[0;34m]\u001b[0m\u001b[0;34m\u001b[0m\u001b[0m\n\u001b[1;32m      4\u001b[0m \u001b[0;31m##Exfiltration##\u001b[0m\u001b[0;34m\u001b[0m\u001b[0;34m\u001b[0m\u001b[0m\n\u001b[1;32m      5\u001b[0m \u001b[0mexfilt_mem\u001b[0m\u001b[0;34m=\u001b[0m\u001b[0mparticles\u001b[0m\u001b[0;34m.\u001b[0m\u001b[0mloc\u001b[0m\u001b[0;34m[\u001b[0m\u001b[0mparticles\u001b[0m\u001b[0;34m.\u001b[0m\u001b[0mflag\u001b[0m\u001b[0;34m==\u001b[0m\u001b[0;34m(\u001b[0m\u001b[0mmaccol\u001b[0m\u001b[0;34m+\u001b[0m\u001b[0;36m1\u001b[0m\u001b[0;34m)\u001b[0m\u001b[0;34m,\u001b[0m\u001b[0;34m'exfilt'\u001b[0m\u001b[0;34m]\u001b[0m\u001b[0;34m.\u001b[0m\u001b[0mvalues\u001b[0m\u001b[0;34m.\u001b[0m\u001b[0mastype\u001b[0m\u001b[0;34m(\u001b[0m\u001b[0;34m'float64'\u001b[0m\u001b[0;34m)\u001b[0m\u001b[0;34m\u001b[0m\u001b[0m\n",
        "\u001b[0;31mNameError\u001b[0m: name 'E_tkin' is not defined"
       ]
      }
     ],
     "prompt_number": 8
    },
    {
     "cell_type": "code",
     "collapsed": false,
     "input": [
      "clog_switch=False\n",
      "exfilt_p=0.\n",
      "\n",
      "##CHECK MACROPORE CAPACITY##\n",
      "particles_mzid_proj=macpos(particles_znew[samplenow]+s_red)\n",
      "[mfilling_proj, filmloc_p]=macfil(particles_mzid_proj,mxgridcell)\n",
      "#DEBUG\n",
      "mfilling_proj=mfilling_proj[:len(maxfill)]\n",
      "openslots_proj=maxfill-mfilling_proj\n",
      "excess_id=[]\n",
      "if any(openslots_proj<0):\n",
      "    excess=np.where(openslots_proj<0)[0]\n",
      "    for iex in excess[::-1]:\n",
      "        iexx=np.where(particles_mzid_proj==iex)[0][openslots_proj[iex]:]\n",
      "        #redistribute above:\n",
      "        while len(iexx)>0:\n",
      "            #s_red[iexx]+=np.fmin(-s_red[iexx],mc.particleD)\n",
      "            s_red[iexx]+=slotscale\n",
      "            openslots_proj[iex]=np.amax([0,openslots_proj[iex]-len(iexx)])\n",
      "            if len(iexx)>openslots_proj[iex-1]:\n",
      "                iexx=iexx[openslots_proj[iex-1]:]\n",
      "                iex-=1\n",
      "                if iex<1:\n",
      "                    s_red[iexx]=0.\n",
      "                    particles_znew[samplenow][iexx]=0.\n",
      "                    openslots_proj[0]=0\n",
      "                    excess_id=iexx\n",
      "                    iexx=[]\n",
      "                    continue\n",
      "            else:\n",
      "                iexx=[]\n",
      "                continue\n",
      "if len(excess_id)>0:\n",
      "    mc.mactopfill[maccol]=maxfill[0]\n",
      "else:\n",
      "    mc.mactopfill[maccol]=maxfill[0]-openslots_proj[0]\n",
      "#piling of any particles approaching this spot (like clogging)\n",
      "#positive psi for all particles in cue as h above clogged particle\n",
      "# mc.maccap is now better defined\n",
      "#perform advection\n",
      "particles_znew[samplenow]+=s_red\n",
      "s_red_store[samplenow]=s_red\n",
      "    \n",
      "#check clogging of macropore\n",
      "#this may be relevant for cohesive soils with small, coated macropores\n",
      "if (clog_switch==True):\n",
      "    #functions for clogging calculation\n",
      "    #check macropore capacity (clogging)\n",
      "    #check if clogging occurs and where\n",
      "    def clogpos(idx,idy,idz):\n",
      "        x=-1\n",
      "        if (idx!=idy):\n",
      "            #debug:\n",
      "            #print np.shape(mc.maccap), maccol, idz\n",
      "            #idz[idz>=np.shape(mc.maccap)[1]]=np.shape(mc.maccap)[1]-1\n",
      "            idz_ref=np.where(refpos>idz)[0][0]-1\n",
      "            t = mfilling[idx:idy]-mc.maccap[maccol,idz_ref]\n",
      "            if any(t<0.):\n",
      "                x=idx+np.nonzero(t<0.)[0][0] #mzid of clogged cell\n",
      "            else:\n",
      "                x=idy\n",
      "        return x\n",
      "    vclogpos=np.vectorize(clogpos)\n",
      "    z_proj=particles_znew[samplenow]\n",
      "    macincr=vfindincr(-z_proj)\n",
      "    clog=vclogpos(particles_mzid[samplenow],proj_mzid[samplenow],macincr.astype(np.int))\n",
      "    #cut advection at clogging\n",
      "    cid=(clog>=0)\n",
      "    if any(cid):\n",
      "        #update z_proj to center of last free cell before clog\n",
      "        z_proj[cid]=-mc.particleD*(clog[cid]-0.5)\n",
      "        particles_znew[samplenow[cid]]=np.amax([particles_znew[samplenow[cid]],z_proj[cid]],axis=0)\n",
      "#set for exfiltration if excceding macropore depth\n",
      "exfilt_low = (particles_znew < -mc.md_macdepth[maccol])\n",
      "particles_znew[exfilt_low] = -mc.md_macdepth[maccol]\n",
      "particles_zid=np.floor(particles_znew/mc.mgrid.vertfac.values).astype(int)\n",
      "particles_zid[particles_zid>=mc.mgrid.vertgrid.values[0]]=mc.mgrid.vertgrid.values[0]-1\n",
      "    \n",
      "#assign new z into data frame:\n",
      "[lat_new,z_new,nodrain]=pdyn.boundcheck(particles.lat.loc[midx],particles_znew,mc)\n",
      "particles.loc[particles.flag==(maccol+1),'z']=z_new #particles_znew\n",
      "particles.loc[particles.flag==(maccol+1),'cell']=pdyn.cellgrid(particles.loc[particles.flag==(maccol+1),'lat'].values,particles.loc[particles.flag==(maccol+1),'z'].values,mc).astype(np.intp)\n",
      "#assign updated advective velocity to particles\n",
      "particles.loc[particles.flag==(maccol+1),'advect']=ux\n",
      "particles.loc[particles.flag==(maccol+1),'fastlane']=filmloc \n",
      "particles.loc[particles.flag==(maccol+1),'exfilt']=exfilt_mem \n",
      "#assign values to exfiltrating particles\n",
      "exfilt=(exfilt | exfilt_low)\n",
      "if any(exfilt):\n",
      "    exfilt_p+=sum(exfilt)\n",
      "    idy=midx[exfilt]\n",
      "    particles_mzid_ex=macpos(particles.z.loc[idy].values)\n",
      "    thS.ravel()[mac_cell[particles_mzid_ex]]\n",
      "    # check saturation :: no exfiltration if near sat.\n",
      "    thS_ex=thS.ravel()[mac_cell[particles_mzid_ex]]\n",
      "    idy=idy[thS_ex<99]\n",
      "    particles.loc[idy,'flag']=0\n",
      "    particles.loc[idy,'fastlane']=0\n",
      "    particles.loc[idy,'exfilt']=0\n",
      "    particles.loc[idy,'LTEbin']=np.intp((np.amax(mc.mxbin)-2)*(thS_ex[thS_ex<99]/100.)) #assign LTE bin to exfilt particle\n",
      "    macincr=np.fmin(vfindincr(particles_znew[exfilt]),np.shape(mc.md_contact)[1]-1)\n",
      "    macincr=macincr[thS_ex<99]\n",
      "    particles.lat.loc[idy]=mc.md_pos[maccol]+mc.md_contact[maccol,macincr]*(np.random.random_sample(len(idy))-0.5)\n",
      "#handle draining particles if any\n",
      "if any(-nodrain):\n",
      "    particles.flag.loc[midx[-nodrain]]=len(mc.maccols)+1\n",
      "    particles.z.loc[midx[-nodrain]]=mc.soildepth-0.0001\n",
      "#redistribute excess particles from macropore to surface\n",
      "if len(excess_id)>0:\n",
      "    particles.loc[midx[excess_id],'flag']=0 #set back to matrix domain\n",
      "    particles.loc[midx[excess_id],'z']=0. #set z to zero > will be passed back to infilt routine"
     ],
     "language": "python",
     "metadata": {},
     "outputs": [
      {
       "ename": "NameError",
       "evalue": "name 'macpos' is not defined",
       "output_type": "pyerr",
       "traceback": [
        "\u001b[0;31m---------------------------------------------------------------------------\u001b[0m\n\u001b[0;31mNameError\u001b[0m                                 Traceback (most recent call last)",
        "\u001b[0;32m<ipython-input-9-bfaf18f6fd3a>\u001b[0m in \u001b[0;36m<module>\u001b[0;34m()\u001b[0m\n\u001b[1;32m      3\u001b[0m \u001b[0;34m\u001b[0m\u001b[0m\n\u001b[1;32m      4\u001b[0m \u001b[0;31m##CHECK MACROPORE CAPACITY##\u001b[0m\u001b[0;34m\u001b[0m\u001b[0;34m\u001b[0m\u001b[0m\n\u001b[0;32m----> 5\u001b[0;31m \u001b[0mparticles_mzid_proj\u001b[0m\u001b[0;34m=\u001b[0m\u001b[0mmacpos\u001b[0m\u001b[0;34m(\u001b[0m\u001b[0mparticles_znew\u001b[0m\u001b[0;34m[\u001b[0m\u001b[0msamplenow\u001b[0m\u001b[0;34m]\u001b[0m\u001b[0;34m+\u001b[0m\u001b[0ms_red\u001b[0m\u001b[0;34m)\u001b[0m\u001b[0;34m\u001b[0m\u001b[0m\n\u001b[0m\u001b[1;32m      6\u001b[0m \u001b[0;34m[\u001b[0m\u001b[0mmfilling_proj\u001b[0m\u001b[0;34m,\u001b[0m \u001b[0mfilmloc_p\u001b[0m\u001b[0;34m]\u001b[0m\u001b[0;34m=\u001b[0m\u001b[0mmacfil\u001b[0m\u001b[0;34m(\u001b[0m\u001b[0mparticles_mzid_proj\u001b[0m\u001b[0;34m,\u001b[0m\u001b[0mmxgridcell\u001b[0m\u001b[0;34m)\u001b[0m\u001b[0;34m\u001b[0m\u001b[0m\n\u001b[1;32m      7\u001b[0m \u001b[0;31m#DEBUG\u001b[0m\u001b[0;34m\u001b[0m\u001b[0;34m\u001b[0m\u001b[0m\n",
        "\u001b[0;31mNameError\u001b[0m: name 'macpos' is not defined"
       ]
      }
     ],
     "prompt_number": 9
    },
    {
     "cell_type": "code",
     "collapsed": false,
     "input": [
      "s_red_store"
     ],
     "language": "python",
     "metadata": {},
     "outputs": []
    },
    {
     "cell_type": "code",
     "collapsed": false,
     "input": [
      "plot(-ux,'.')\n",
      "plot(-ux_saveforlater,'.')\n",
      "yscale('log')\n"
     ],
     "language": "python",
     "metadata": {},
     "outputs": []
    },
    {
     "cell_type": "code",
     "collapsed": false,
     "input": [
      "particles.loc[particles.flag==maccol+1,'z'].hist()"
     ],
     "language": "python",
     "metadata": {},
     "outputs": []
    },
    {
     "cell_type": "code",
     "collapsed": false,
     "input": [
      "plot(dummy_ux-ux)\n"
     ],
     "language": "python",
     "metadata": {},
     "outputs": [
      {
       "ename": "NameError",
       "evalue": "name 'dummy_ux' is not defined",
       "output_type": "pyerr",
       "traceback": [
        "\u001b[0;31m---------------------------------------------------------------------------\u001b[0m\n\u001b[0;31mNameError\u001b[0m                                 Traceback (most recent call last)",
        "\u001b[0;32m<ipython-input-10-e19ca782823d>\u001b[0m in \u001b[0;36m<module>\u001b[0;34m()\u001b[0m\n\u001b[0;32m----> 1\u001b[0;31m \u001b[0mplot\u001b[0m\u001b[0;34m(\u001b[0m\u001b[0mdummy_ux\u001b[0m\u001b[0;34m-\u001b[0m\u001b[0mux\u001b[0m\u001b[0;34m)\u001b[0m\u001b[0;34m\u001b[0m\u001b[0m\n\u001b[0m",
        "\u001b[0;31mNameError\u001b[0m: name 'dummy_ux' is not defined"
       ]
      }
     ],
     "prompt_number": 10
    },
    {
     "cell_type": "code",
     "collapsed": false,
     "input": [
      "i=33\n",
      "xpsi=psi_mac[stretch[i][0]:(stretch[i][0]+stretch[i][1])]\n",
      "xtheta=dtheta_mac[stretch[i][0]:(stretch[i][0]+stretch[i][1])]\n",
      "xweights=np.arange(1+len(xpsi))[:0:-1]\n",
      "wpsi=np.repeat(xpsi,xweights)\n",
      "exp_psi[i]=-(np.abs(np.prod(wpsi))**(1./np.fmax(1,len(wpsi))))\n",
      "xdpsi=dpsi_dtheta_mac[stretch[i][0]:(stretch[i][0]+stretch[i][1])]\n",
      "wdpsi=np.repeat(xdpsi,xweights)\n",
      "thick[i]=pdyn.filmthick(np.mean(wpsi)*98.0638) #convert m water column into hPa and calculate film thickness\n",
      "dpsi_dtheta[i]=np.prod(wdpsi)**(1./np.fmax(1,len(wdpsi)))\n",
      "xk=k_mac[stretch[i][0]:(stretch[i][0]+stretch[i][1])]\n",
      "wk=np.repeat(xk,xweights)\n",
      "wt=np.repeat(xtheta,xweights)\n",
      "k[i]=np.mean(wk)\n",
      "xD=D_mac[stretch[i][0]:(stretch[i][0]+stretch[i][1])]\n",
      "wD=np.repeat(xD,xweights)\n",
      "D[i]=np.mean(wD)\n",
      "thetax[i]=np.mean(wt)\n",
      "Qx[i]=np.mean(wD)*(np.mean(wt)/(0.5*mc.particleD[0]))+np.mean(wk)"
     ],
     "language": "python",
     "metadata": {},
     "outputs": [
      {
       "ename": "NameError",
       "evalue": "name 'psi_mac' is not defined",
       "output_type": "pyerr",
       "traceback": [
        "\u001b[0;31m---------------------------------------------------------------------------\u001b[0m\n\u001b[0;31mNameError\u001b[0m                                 Traceback (most recent call last)",
        "\u001b[0;32m<ipython-input-11-670e625366d1>\u001b[0m in \u001b[0;36m<module>\u001b[0;34m()\u001b[0m\n\u001b[1;32m      1\u001b[0m \u001b[0mi\u001b[0m\u001b[0;34m=\u001b[0m\u001b[0;36m33\u001b[0m\u001b[0;34m\u001b[0m\u001b[0m\n\u001b[0;32m----> 2\u001b[0;31m \u001b[0mxpsi\u001b[0m\u001b[0;34m=\u001b[0m\u001b[0mpsi_mac\u001b[0m\u001b[0;34m[\u001b[0m\u001b[0mstretch\u001b[0m\u001b[0;34m[\u001b[0m\u001b[0mi\u001b[0m\u001b[0;34m]\u001b[0m\u001b[0;34m[\u001b[0m\u001b[0;36m0\u001b[0m\u001b[0;34m]\u001b[0m\u001b[0;34m:\u001b[0m\u001b[0;34m(\u001b[0m\u001b[0mstretch\u001b[0m\u001b[0;34m[\u001b[0m\u001b[0mi\u001b[0m\u001b[0;34m]\u001b[0m\u001b[0;34m[\u001b[0m\u001b[0;36m0\u001b[0m\u001b[0;34m]\u001b[0m\u001b[0;34m+\u001b[0m\u001b[0mstretch\u001b[0m\u001b[0;34m[\u001b[0m\u001b[0mi\u001b[0m\u001b[0;34m]\u001b[0m\u001b[0;34m[\u001b[0m\u001b[0;36m1\u001b[0m\u001b[0;34m]\u001b[0m\u001b[0;34m)\u001b[0m\u001b[0;34m]\u001b[0m\u001b[0;34m\u001b[0m\u001b[0m\n\u001b[0m\u001b[1;32m      3\u001b[0m \u001b[0mxtheta\u001b[0m\u001b[0;34m=\u001b[0m\u001b[0mdtheta_mac\u001b[0m\u001b[0;34m[\u001b[0m\u001b[0mstretch\u001b[0m\u001b[0;34m[\u001b[0m\u001b[0mi\u001b[0m\u001b[0;34m]\u001b[0m\u001b[0;34m[\u001b[0m\u001b[0;36m0\u001b[0m\u001b[0;34m]\u001b[0m\u001b[0;34m:\u001b[0m\u001b[0;34m(\u001b[0m\u001b[0mstretch\u001b[0m\u001b[0;34m[\u001b[0m\u001b[0mi\u001b[0m\u001b[0;34m]\u001b[0m\u001b[0;34m[\u001b[0m\u001b[0;36m0\u001b[0m\u001b[0;34m]\u001b[0m\u001b[0;34m+\u001b[0m\u001b[0mstretch\u001b[0m\u001b[0;34m[\u001b[0m\u001b[0mi\u001b[0m\u001b[0;34m]\u001b[0m\u001b[0;34m[\u001b[0m\u001b[0;36m1\u001b[0m\u001b[0;34m]\u001b[0m\u001b[0;34m)\u001b[0m\u001b[0;34m]\u001b[0m\u001b[0;34m\u001b[0m\u001b[0m\n\u001b[1;32m      4\u001b[0m \u001b[0mxweights\u001b[0m\u001b[0;34m=\u001b[0m\u001b[0mnp\u001b[0m\u001b[0;34m.\u001b[0m\u001b[0marange\u001b[0m\u001b[0;34m(\u001b[0m\u001b[0;36m1\u001b[0m\u001b[0;34m+\u001b[0m\u001b[0mlen\u001b[0m\u001b[0;34m(\u001b[0m\u001b[0mxpsi\u001b[0m\u001b[0;34m)\u001b[0m\u001b[0;34m)\u001b[0m\u001b[0;34m[\u001b[0m\u001b[0;34m:\u001b[0m\u001b[0;36m0\u001b[0m\u001b[0;34m:\u001b[0m\u001b[0;34m-\u001b[0m\u001b[0;36m1\u001b[0m\u001b[0;34m]\u001b[0m\u001b[0;34m\u001b[0m\u001b[0m\n\u001b[1;32m      5\u001b[0m \u001b[0mwpsi\u001b[0m\u001b[0;34m=\u001b[0m\u001b[0mnp\u001b[0m\u001b[0;34m.\u001b[0m\u001b[0mrepeat\u001b[0m\u001b[0;34m(\u001b[0m\u001b[0mxpsi\u001b[0m\u001b[0;34m,\u001b[0m\u001b[0mxweights\u001b[0m\u001b[0;34m)\u001b[0m\u001b[0;34m\u001b[0m\u001b[0m\n",
        "\u001b[0;31mNameError\u001b[0m: name 'psi_mac' is not defined"
       ]
      }
     ],
     "prompt_number": 11
    },
    {
     "cell_type": "code",
     "collapsed": false,
     "input": [
      "idx0=np.ceil(old_z/mc.mgrid.vertfac.values).astype(int)\n",
      "idx1=np.fmax(1,np.fmin(gridspan,np.intp(mc.mgrid.vertgrid.values/10))) #maximum 1/10 of cells allowed to check for states along passage\n",
      "idx0[idx0>=(len(psi_mac)-1)]=len(psi_mac)-2\n",
      "idx1=np.fmin(idx1,len(psi_mac)-1-idx0)\n",
      "stretch=np.transpose([idx0,idx1]) \n",
      "stretch"
     ],
     "language": "python",
     "metadata": {},
     "outputs": [
      {
       "ename": "NameError",
       "evalue": "name 'old_z' is not defined",
       "output_type": "pyerr",
       "traceback": [
        "\u001b[0;31m---------------------------------------------------------------------------\u001b[0m\n\u001b[0;31mNameError\u001b[0m                                 Traceback (most recent call last)",
        "\u001b[0;32m<ipython-input-12-ecd9f3581229>\u001b[0m in \u001b[0;36m<module>\u001b[0;34m()\u001b[0m\n\u001b[0;32m----> 1\u001b[0;31m \u001b[0midx0\u001b[0m\u001b[0;34m=\u001b[0m\u001b[0mnp\u001b[0m\u001b[0;34m.\u001b[0m\u001b[0mceil\u001b[0m\u001b[0;34m(\u001b[0m\u001b[0mold_z\u001b[0m\u001b[0;34m/\u001b[0m\u001b[0mmc\u001b[0m\u001b[0;34m.\u001b[0m\u001b[0mmgrid\u001b[0m\u001b[0;34m.\u001b[0m\u001b[0mvertfac\u001b[0m\u001b[0;34m.\u001b[0m\u001b[0mvalues\u001b[0m\u001b[0;34m)\u001b[0m\u001b[0;34m.\u001b[0m\u001b[0mastype\u001b[0m\u001b[0;34m(\u001b[0m\u001b[0mint\u001b[0m\u001b[0;34m)\u001b[0m\u001b[0;34m\u001b[0m\u001b[0m\n\u001b[0m\u001b[1;32m      2\u001b[0m \u001b[0midx1\u001b[0m\u001b[0;34m=\u001b[0m\u001b[0mnp\u001b[0m\u001b[0;34m.\u001b[0m\u001b[0mfmax\u001b[0m\u001b[0;34m(\u001b[0m\u001b[0;36m1\u001b[0m\u001b[0;34m,\u001b[0m\u001b[0mnp\u001b[0m\u001b[0;34m.\u001b[0m\u001b[0mfmin\u001b[0m\u001b[0;34m(\u001b[0m\u001b[0mgridspan\u001b[0m\u001b[0;34m,\u001b[0m\u001b[0mnp\u001b[0m\u001b[0;34m.\u001b[0m\u001b[0mintp\u001b[0m\u001b[0;34m(\u001b[0m\u001b[0mmc\u001b[0m\u001b[0;34m.\u001b[0m\u001b[0mmgrid\u001b[0m\u001b[0;34m.\u001b[0m\u001b[0mvertgrid\u001b[0m\u001b[0;34m.\u001b[0m\u001b[0mvalues\u001b[0m\u001b[0;34m/\u001b[0m\u001b[0;36m10\u001b[0m\u001b[0;34m)\u001b[0m\u001b[0;34m)\u001b[0m\u001b[0;34m)\u001b[0m \u001b[0;31m#maximum 1/10 of cells allowed to check for states along passage\u001b[0m\u001b[0;34m\u001b[0m\u001b[0m\n\u001b[1;32m      3\u001b[0m \u001b[0midx0\u001b[0m\u001b[0;34m[\u001b[0m\u001b[0midx0\u001b[0m\u001b[0;34m>=\u001b[0m\u001b[0;34m(\u001b[0m\u001b[0mlen\u001b[0m\u001b[0;34m(\u001b[0m\u001b[0mpsi_mac\u001b[0m\u001b[0;34m)\u001b[0m\u001b[0;34m-\u001b[0m\u001b[0;36m1\u001b[0m\u001b[0;34m)\u001b[0m\u001b[0;34m]\u001b[0m\u001b[0;34m=\u001b[0m\u001b[0mlen\u001b[0m\u001b[0;34m(\u001b[0m\u001b[0mpsi_mac\u001b[0m\u001b[0;34m)\u001b[0m\u001b[0;34m-\u001b[0m\u001b[0;36m2\u001b[0m\u001b[0;34m\u001b[0m\u001b[0m\n\u001b[1;32m      4\u001b[0m \u001b[0midx1\u001b[0m\u001b[0;34m=\u001b[0m\u001b[0mnp\u001b[0m\u001b[0;34m.\u001b[0m\u001b[0mfmin\u001b[0m\u001b[0;34m(\u001b[0m\u001b[0midx1\u001b[0m\u001b[0;34m,\u001b[0m\u001b[0mlen\u001b[0m\u001b[0;34m(\u001b[0m\u001b[0mpsi_mac\u001b[0m\u001b[0;34m)\u001b[0m\u001b[0;34m-\u001b[0m\u001b[0;36m1\u001b[0m\u001b[0;34m-\u001b[0m\u001b[0midx0\u001b[0m\u001b[0;34m)\u001b[0m\u001b[0;34m\u001b[0m\u001b[0m\n\u001b[1;32m      5\u001b[0m \u001b[0mstretch\u001b[0m\u001b[0;34m=\u001b[0m\u001b[0mnp\u001b[0m\u001b[0;34m.\u001b[0m\u001b[0mtranspose\u001b[0m\u001b[0;34m(\u001b[0m\u001b[0;34m[\u001b[0m\u001b[0midx0\u001b[0m\u001b[0;34m,\u001b[0m\u001b[0midx1\u001b[0m\u001b[0;34m]\u001b[0m\u001b[0;34m)\u001b[0m\u001b[0;34m\u001b[0m\u001b[0m\n",
        "\u001b[0;31mNameError\u001b[0m: name 'old_z' is not defined"
       ]
      }
     ],
     "prompt_number": 12
    },
    {
     "cell_type": "code",
     "collapsed": false,
     "input": [
      "plot(particles.loc[particles.age>0,'lat'],particles.loc[particles.age>0,'z'],'.')\n",
      "plot(particles.loc[particles.flag>0,'lat'],particles.loc[particles.flag>0,'z'],'.')"
     ],
     "language": "python",
     "metadata": {},
     "outputs": [
      {
       "ename": "NameError",
       "evalue": "name 'particles' is not defined",
       "output_type": "pyerr",
       "traceback": [
        "\u001b[0;31m---------------------------------------------------------------------------\u001b[0m\n\u001b[0;31mNameError\u001b[0m                                 Traceback (most recent call last)",
        "\u001b[0;32m<ipython-input-13-c766ab036abe>\u001b[0m in \u001b[0;36m<module>\u001b[0;34m()\u001b[0m\n\u001b[0;32m----> 1\u001b[0;31m \u001b[0mplot\u001b[0m\u001b[0;34m(\u001b[0m\u001b[0mparticles\u001b[0m\u001b[0;34m.\u001b[0m\u001b[0mloc\u001b[0m\u001b[0;34m[\u001b[0m\u001b[0mparticles\u001b[0m\u001b[0;34m.\u001b[0m\u001b[0mage\u001b[0m\u001b[0;34m>\u001b[0m\u001b[0;36m0\u001b[0m\u001b[0;34m,\u001b[0m\u001b[0;34m'lat'\u001b[0m\u001b[0;34m]\u001b[0m\u001b[0;34m,\u001b[0m\u001b[0mparticles\u001b[0m\u001b[0;34m.\u001b[0m\u001b[0mloc\u001b[0m\u001b[0;34m[\u001b[0m\u001b[0mparticles\u001b[0m\u001b[0;34m.\u001b[0m\u001b[0mage\u001b[0m\u001b[0;34m>\u001b[0m\u001b[0;36m0\u001b[0m\u001b[0;34m,\u001b[0m\u001b[0;34m'z'\u001b[0m\u001b[0;34m]\u001b[0m\u001b[0;34m,\u001b[0m\u001b[0;34m'.'\u001b[0m\u001b[0;34m)\u001b[0m\u001b[0;34m\u001b[0m\u001b[0m\n\u001b[0m\u001b[1;32m      2\u001b[0m \u001b[0mplot\u001b[0m\u001b[0;34m(\u001b[0m\u001b[0mparticles\u001b[0m\u001b[0;34m.\u001b[0m\u001b[0mloc\u001b[0m\u001b[0;34m[\u001b[0m\u001b[0mparticles\u001b[0m\u001b[0;34m.\u001b[0m\u001b[0mflag\u001b[0m\u001b[0;34m>\u001b[0m\u001b[0;36m0\u001b[0m\u001b[0;34m,\u001b[0m\u001b[0;34m'lat'\u001b[0m\u001b[0;34m]\u001b[0m\u001b[0;34m,\u001b[0m\u001b[0mparticles\u001b[0m\u001b[0;34m.\u001b[0m\u001b[0mloc\u001b[0m\u001b[0;34m[\u001b[0m\u001b[0mparticles\u001b[0m\u001b[0;34m.\u001b[0m\u001b[0mflag\u001b[0m\u001b[0;34m>\u001b[0m\u001b[0;36m0\u001b[0m\u001b[0;34m,\u001b[0m\u001b[0;34m'z'\u001b[0m\u001b[0;34m]\u001b[0m\u001b[0;34m,\u001b[0m\u001b[0;34m'.'\u001b[0m\u001b[0;34m)\u001b[0m\u001b[0;34m\u001b[0m\u001b[0m\n",
        "\u001b[0;31mNameError\u001b[0m: name 'particles' is not defined"
       ]
      }
     ],
     "prompt_number": 13
    },
    {
     "cell_type": "code",
     "collapsed": false,
     "input": [
      "import seaborn as sns\n",
      "f, ax = plt.subplots(figsize=(8, 8))\n",
      "ax.set_aspect(\"equal\")\n",
      "\n",
      "# Draw the two density plots\n",
      "ax = sns.kdeplot(particles.loc[particles.age>0,'lat'],particles.loc[particles.age>0,'z'],\n",
      "                 cmap=\"Reds\", shade=False, shade_lowest=False)\n",
      "ax = sns.kdeplot(particles.loc[particles.flag>0,'lat'],particles.loc[particles.flag>0,'z'],\n",
      "                 cmap=\"Blues\", shade=False, shade_lowest=False)\n",
      "\n",
      "# Add labels to the plot\n",
      "red = sns.color_palette(\"Reds\")[-2]\n",
      "blue = sns.color_palette(\"Blues\")[-2]\n"
     ],
     "language": "python",
     "metadata": {},
     "outputs": [
      {
       "ename": "NameError",
       "evalue": "name 'particles' is not defined",
       "output_type": "pyerr",
       "traceback": [
        "\u001b[0;31m---------------------------------------------------------------------------\u001b[0m\n\u001b[0;31mNameError\u001b[0m                                 Traceback (most recent call last)",
        "\u001b[0;32m<ipython-input-14-84c904125353>\u001b[0m in \u001b[0;36m<module>\u001b[0;34m()\u001b[0m\n\u001b[1;32m      4\u001b[0m \u001b[0;34m\u001b[0m\u001b[0m\n\u001b[1;32m      5\u001b[0m \u001b[0;31m# Draw the two density plots\u001b[0m\u001b[0;34m\u001b[0m\u001b[0;34m\u001b[0m\u001b[0m\n\u001b[0;32m----> 6\u001b[0;31m ax = sns.kdeplot(particles.loc[particles.age>0,'lat'],particles.loc[particles.age>0,'z'],\n\u001b[0m\u001b[1;32m      7\u001b[0m                  cmap=\"Reds\", shade=False, shade_lowest=False)\n\u001b[1;32m      8\u001b[0m ax = sns.kdeplot(particles.loc[particles.flag>0,'lat'],particles.loc[particles.flag>0,'z'],\n",
        "\u001b[0;31mNameError\u001b[0m: name 'particles' is not defined"
       ]
      },
      {
       "output_type": "stream",
       "stream": "stderr",
       "text": [
        "/usr/local/lib/python2.7/site-packages/matplotlib/__init__.py:872: UserWarning: axes.color_cycle is deprecated and replaced with axes.prop_cycle; please use the latter.\n",
        "  warnings.warn(self.msg_depr % (key, alt_key))\n"
       ]
      },
      {
       "metadata": {},
       "output_type": "display_data",
       "png": "[encoded data removed]",
       "text": [
        "<matplotlib.figure.Figure at 0x10d600350>"
       ]
      }
     ],
     "prompt_number": 14
    },
    {
     "cell_type": "code",
     "collapsed": false,
     "input": [
      "sns.jointplot(particles.loc[particles.age>0,'lat'],particles.loc[particles.age>0,'z'],kind=\"hex\",ratio=1,size=10)\n",
      "#sns.jointplot(particles.loc[particles.flag>0,'lat'],particles.loc[particles.flag>0,'z'])"
     ],
     "language": "python",
     "metadata": {},
     "outputs": []
    },
    {
     "cell_type": "code",
     "collapsed": false,
     "input": [],
     "language": "python",
     "metadata": {},
     "outputs": []
    }
   ],
   "metadata": {}
  }
 ]
}